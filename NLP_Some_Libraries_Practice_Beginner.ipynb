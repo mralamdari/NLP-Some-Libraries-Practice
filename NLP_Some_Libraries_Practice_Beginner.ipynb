{
  "nbformat": 4,
  "nbformat_minor": 0,
  "metadata": {
    "colab": {
      "name": "NLP-Some-Libraries-Practice-Beginner.ipynb",
      "provenance": [],
      "collapsed_sections": [],
      "authorship_tag": "ABX9TyNTXxDFubZY5evY+0jZJBg3",
      "include_colab_link": true
    },
    "kernelspec": {
      "name": "python3",
      "display_name": "Python 3"
    },
    "language_info": {
      "name": "python"
    }
  },
  "cells": [
    {
      "cell_type": "markdown",
      "metadata": {
        "id": "view-in-github",
        "colab_type": "text"
      },
      "source": [
        "<a href=\"https://colab.research.google.com/github/mr-alamdari/NLP-Some-Libraries-Practice-Beginner/blob/main/NLP_Some_Libraries_Practice_Beginner.ipynb\" target=\"_parent\"><img src=\"https://colab.research.google.com/assets/colab-badge.svg\" alt=\"Open In Colab\"/></a>"
      ]
    },
    {
      "cell_type": "markdown",
      "source": [
        "#Spacy"
      ],
      "metadata": {
        "id": "MQbzT2xu5gYv"
      }
    },
    {
      "cell_type": "code",
      "execution_count": 1,
      "metadata": {
        "id": "zu1RKch94_UJ"
      },
      "outputs": [],
      "source": [
        "import spacy"
      ]
    },
    {
      "cell_type": "markdown",
      "source": [
        "###Loading a Model"
      ],
      "metadata": {
        "id": "_R4nqII77N3x"
      }
    },
    {
      "cell_type": "code",
      "source": [
        "nlp = spacy.load('en_core_web_sm')"
      ],
      "metadata": {
        "id": "OeM-1uWn5fpZ"
      },
      "execution_count": 18,
      "outputs": []
    },
    {
      "cell_type": "markdown",
      "source": [
        "###Apply the model to a document (doc object)"
      ],
      "metadata": {
        "id": "yBPXnnAP7Ran"
      }
    },
    {
      "cell_type": "code",
      "source": [
        "doc = nlp('The First My spacy code, to learn this awsome library ')"
      ],
      "metadata": {
        "id": "HC9nDly-6A6T"
      },
      "execution_count": 19,
      "outputs": []
    },
    {
      "cell_type": "code",
      "source": [
        "doc"
      ],
      "metadata": {
        "colab": {
          "base_uri": "https://localhost:8080/"
        },
        "id": "o5clkpMs6U_c",
        "outputId": "d472adbd-3d0b-4755-8dc0-18cb8f40cfdf"
      },
      "execution_count": 20,
      "outputs": [
        {
          "output_type": "execute_result",
          "data": {
            "text/plain": [
              "The First My spacy code, to learn this awsome library "
            ]
          },
          "metadata": {},
          "execution_count": 20
        }
      ]
    },
    {
      "cell_type": "code",
      "source": [
        "for token in doc:\n",
        "  print(token)\n",
        "  #print(token.text)"
      ],
      "metadata": {
        "colab": {
          "base_uri": "https://localhost:8080/"
        },
        "id": "ckHVFgmi6VoQ",
        "outputId": "07f6dc18-2d8d-4718-f2a1-888c28adb44e"
      },
      "execution_count": 21,
      "outputs": [
        {
          "output_type": "stream",
          "name": "stdout",
          "text": [
            "The\n",
            "First\n",
            "My\n",
            "spacy\n",
            "code\n",
            ",\n",
            "to\n",
            "learn\n",
            "this\n",
            "awsome\n",
            "library\n"
          ]
        }
      ]
    },
    {
      "cell_type": "code",
      "source": [
        "# pos ===> Part of Speach\n",
        "for token in doc:\n",
        "  print(token.text, token.pos, token.pos_)"
      ],
      "metadata": {
        "colab": {
          "base_uri": "https://localhost:8080/"
        },
        "id": "cI_B7QIM6YrI",
        "outputId": "2f6880ef-7847-46e8-84a2-58625c5900d5"
      },
      "execution_count": 22,
      "outputs": [
        {
          "output_type": "stream",
          "name": "stdout",
          "text": [
            "The 90 DET\n",
            "First 96 PROPN\n",
            "My 90 DET\n",
            "spacy 92 NOUN\n",
            "code 92 NOUN\n",
            ", 97 PUNCT\n",
            "to 94 PART\n",
            "learn 100 VERB\n",
            "this 90 DET\n",
            "awsome 84 ADJ\n",
            "library 92 NOUN\n"
          ]
        }
      ]
    },
    {
      "cell_type": "code",
      "source": [
        "# dep ===> Syntactic dependency\n",
        "for token in doc:\n",
        "  print(token.text, token.dep_)"
      ],
      "metadata": {
        "colab": {
          "base_uri": "https://localhost:8080/"
        },
        "id": "ZILUIB4u6cAk",
        "outputId": "55b13f3b-14a8-4b78-e887-f2df230c5bf9"
      },
      "execution_count": 23,
      "outputs": [
        {
          "output_type": "stream",
          "name": "stdout",
          "text": [
            "The det\n",
            "First amod\n",
            "My poss\n",
            "spacy compound\n",
            "code ROOT\n",
            ", punct\n",
            "to aux\n",
            "learn relcl\n",
            "this det\n",
            "awsome compound\n",
            "library dobj\n"
          ]
        }
      ]
    },
    {
      "cell_type": "code",
      "source": [
        "nlp.pipeline"
      ],
      "metadata": {
        "colab": {
          "base_uri": "https://localhost:8080/"
        },
        "id": "FrNE3QST65vB",
        "outputId": "32c3a8c8-3153-404e-8861-5a567f39ea59"
      },
      "execution_count": 25,
      "outputs": [
        {
          "output_type": "execute_result",
          "data": {
            "text/plain": [
              "[('tagger', <spacy.pipeline.pipes.Tagger at 0x7fe238c45f90>),\n",
              " ('parser', <spacy.pipeline.pipes.DependencyParser at 0x7fe238beff30>),\n",
              " ('ner', <spacy.pipeline.pipes.EntityRecognizer at 0x7fe238befd00>)]"
            ]
          },
          "metadata": {},
          "execution_count": 25
        }
      ]
    },
    {
      "cell_type": "code",
      "source": [
        "nlp.pipe_names"
      ],
      "metadata": {
        "colab": {
          "base_uri": "https://localhost:8080/"
        },
        "id": "jGPP-q1Y7lcy",
        "outputId": "286dedd5-d0ca-4b31-b91c-3bd11e21efb9"
      },
      "execution_count": 26,
      "outputs": [
        {
          "output_type": "execute_result",
          "data": {
            "text/plain": [
              "['tagger', 'parser', 'ner']"
            ]
          },
          "metadata": {},
          "execution_count": 26
        }
      ]
    },
    {
      "cell_type": "markdown",
      "source": [
        "###Tokenization"
      ],
      "metadata": {
        "id": "jo3pz30i7yeF"
      }
    },
    {
      "cell_type": "code",
      "source": [
        "doc2 = nlp(u'This is a sentence to practice tokenization, It is Awsome')"
      ],
      "metadata": {
        "id": "Xg5ZDZiy7xnp"
      },
      "execution_count": 27,
      "outputs": []
    },
    {
      "cell_type": "code",
      "source": [
        ""
      ],
      "metadata": {
        "id": "bm4N8nIw795Q"
      },
      "execution_count": null,
      "outputs": []
    }
  ]
}