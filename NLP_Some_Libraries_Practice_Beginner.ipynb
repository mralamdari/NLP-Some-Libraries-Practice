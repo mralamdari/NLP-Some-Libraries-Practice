{
  "nbformat": 4,
  "nbformat_minor": 0,
  "metadata": {
    "colab": {
      "name": "NLP-Some-Libraries-Practice-Beginner.ipynb",
      "provenance": [],
      "collapsed_sections": [],
      "authorship_tag": "ABX9TyMKxB6xJ6NcPnnpUEiFqTy9",
      "include_colab_link": true
    },
    "kernelspec": {
      "name": "python3",
      "display_name": "Python 3"
    },
    "language_info": {
      "name": "python"
    }
  },
  "cells": [
    {
      "cell_type": "markdown",
      "metadata": {
        "id": "view-in-github",
        "colab_type": "text"
      },
      "source": [
        "<a href=\"https://colab.research.google.com/github/mr-alamdari/NLP-Some-Libraries-Practice-Beginner/blob/main/NLP_Some_Libraries_Practice_Beginner.ipynb\" target=\"_parent\"><img src=\"https://colab.research.google.com/assets/colab-badge.svg\" alt=\"Open In Colab\"/></a>"
      ]
    },
    {
      "cell_type": "markdown",
      "source": [
        "#[Spacy](https://spacy.io/api)"
      ],
      "metadata": {
        "id": "MQbzT2xu5gYv"
      }
    },
    {
      "cell_type": "code",
      "execution_count": 3,
      "metadata": {
        "id": "zu1RKch94_UJ"
      },
      "outputs": [],
      "source": [
        "import spacy"
      ]
    },
    {
      "cell_type": "markdown",
      "source": [
        "###Loading a Model"
      ],
      "metadata": {
        "id": "_R4nqII77N3x"
      }
    },
    {
      "cell_type": "code",
      "source": [
        "nlp = spacy.load('en_core_web_sm')"
      ],
      "metadata": {
        "id": "OeM-1uWn5fpZ"
      },
      "execution_count": 4,
      "outputs": []
    },
    {
      "cell_type": "markdown",
      "source": [
        "###Apply the model to a document (doc object)"
      ],
      "metadata": {
        "id": "yBPXnnAP7Ran"
      }
    },
    {
      "cell_type": "code",
      "source": [
        "doc = nlp('The First My spacy code, to learn this awsome library ')"
      ],
      "metadata": {
        "id": "HC9nDly-6A6T"
      },
      "execution_count": 5,
      "outputs": []
    },
    {
      "cell_type": "code",
      "source": [
        "doc"
      ],
      "metadata": {
        "colab": {
          "base_uri": "https://localhost:8080/"
        },
        "id": "o5clkpMs6U_c",
        "outputId": "17f2e22b-de1e-4b2d-9438-f37930dacca3"
      },
      "execution_count": 6,
      "outputs": [
        {
          "output_type": "execute_result",
          "data": {
            "text/plain": [
              "The First My spacy code, to learn this awsome library "
            ]
          },
          "metadata": {},
          "execution_count": 6
        }
      ]
    },
    {
      "cell_type": "code",
      "source": [
        "for token in doc:\n",
        "  print(token)\n",
        "  #print(token.text)"
      ],
      "metadata": {
        "colab": {
          "base_uri": "https://localhost:8080/"
        },
        "id": "ckHVFgmi6VoQ",
        "outputId": "6583cda6-f7ec-4171-e547-ac36b2832b6f"
      },
      "execution_count": 7,
      "outputs": [
        {
          "output_type": "stream",
          "name": "stdout",
          "text": [
            "The\n",
            "First\n",
            "My\n",
            "spacy\n",
            "code\n",
            ",\n",
            "to\n",
            "learn\n",
            "this\n",
            "awsome\n",
            "library\n"
          ]
        }
      ]
    },
    {
      "cell_type": "code",
      "source": [
        "# pos ===> Part of Speach\n",
        "for token in doc:\n",
        "  print(token.text, token.pos, token.pos_)"
      ],
      "metadata": {
        "colab": {
          "base_uri": "https://localhost:8080/"
        },
        "id": "cI_B7QIM6YrI",
        "outputId": "fc619f45-2beb-4c89-ea8e-145a65efc560"
      },
      "execution_count": 8,
      "outputs": [
        {
          "output_type": "stream",
          "name": "stdout",
          "text": [
            "The 90 DET\n",
            "First 96 PROPN\n",
            "My 90 DET\n",
            "spacy 92 NOUN\n",
            "code 92 NOUN\n",
            ", 97 PUNCT\n",
            "to 94 PART\n",
            "learn 100 VERB\n",
            "this 90 DET\n",
            "awsome 84 ADJ\n",
            "library 92 NOUN\n"
          ]
        }
      ]
    },
    {
      "cell_type": "code",
      "source": [
        "# dep ===> Syntactic dependency\n",
        "for token in doc:\n",
        "  print(token.text, token.dep_)"
      ],
      "metadata": {
        "colab": {
          "base_uri": "https://localhost:8080/"
        },
        "id": "ZILUIB4u6cAk",
        "outputId": "4c72e2e8-ee4b-445c-c945-d58003d7e6a1"
      },
      "execution_count": 9,
      "outputs": [
        {
          "output_type": "stream",
          "name": "stdout",
          "text": [
            "The det\n",
            "First amod\n",
            "My poss\n",
            "spacy compound\n",
            "code ROOT\n",
            ", punct\n",
            "to aux\n",
            "learn relcl\n",
            "this det\n",
            "awsome compound\n",
            "library dobj\n"
          ]
        }
      ]
    },
    {
      "cell_type": "code",
      "source": [
        "nlp.pipeline"
      ],
      "metadata": {
        "colab": {
          "base_uri": "https://localhost:8080/"
        },
        "id": "FrNE3QST65vB",
        "outputId": "8cd310a7-7c3e-4d36-c3fa-ef12a1b7d743"
      },
      "execution_count": 10,
      "outputs": [
        {
          "output_type": "execute_result",
          "data": {
            "text/plain": [
              "[('tagger', <spacy.pipeline.pipes.Tagger at 0x7f7a6042b910>),\n",
              " ('parser', <spacy.pipeline.pipes.DependencyParser at 0x7f7a5b909e50>),\n",
              " ('ner', <spacy.pipeline.pipes.EntityRecognizer at 0x7f7a5b909c90>)]"
            ]
          },
          "metadata": {},
          "execution_count": 10
        }
      ]
    },
    {
      "cell_type": "code",
      "source": [
        "nlp.pipe_names"
      ],
      "metadata": {
        "colab": {
          "base_uri": "https://localhost:8080/"
        },
        "id": "jGPP-q1Y7lcy",
        "outputId": "5a34fc1c-546d-4c1f-8ad3-21aff2e30f4c"
      },
      "execution_count": 11,
      "outputs": [
        {
          "output_type": "execute_result",
          "data": {
            "text/plain": [
              "['tagger', 'parser', 'ner']"
            ]
          },
          "metadata": {},
          "execution_count": 11
        }
      ]
    },
    {
      "cell_type": "code",
      "source": [
        "doc2 = nlp(u\"This is a ?? sentence    to practice. tokenization, It's Awsome\")"
      ],
      "metadata": {
        "id": "Xg5ZDZiy7xnp"
      },
      "execution_count": 12,
      "outputs": []
    },
    {
      "cell_type": "code",
      "source": [
        "for token in doc2:\n",
        "  print(token.text, token.pos_, token.dep_)"
      ],
      "metadata": {
        "colab": {
          "base_uri": "https://localhost:8080/"
        },
        "id": "bm4N8nIw795Q",
        "outputId": "fe68397c-e5b6-4b75-c9ff-4fac39069481"
      },
      "execution_count": 13,
      "outputs": [
        {
          "output_type": "stream",
          "name": "stdout",
          "text": [
            "This DET nsubj\n",
            "is AUX ROOT\n",
            "a DET attr\n",
            "? PUNCT punct\n",
            "? PUNCT punct\n",
            "sentence NOUN npadvmod\n",
            "    SPACE \n",
            "to PART aux\n",
            "practice VERB ROOT\n",
            ". PUNCT punct\n",
            "tokenization NOUN npadvmod\n",
            ", PUNCT punct\n",
            "It PRON nsubj\n",
            "'s AUX ROOT\n",
            "Awsome PROPN attr\n"
          ]
        }
      ]
    },
    {
      "cell_type": "code",
      "source": [
        "for token in doc2:\n",
        "  print(token.text, token.tag_)"
      ],
      "metadata": {
        "colab": {
          "base_uri": "https://localhost:8080/"
        },
        "id": "zHgR9ZRW8e0U",
        "outputId": "94c64f26-0133-4e63-b292-b53339d4e6f5"
      },
      "execution_count": 14,
      "outputs": [
        {
          "output_type": "stream",
          "name": "stdout",
          "text": [
            "This DT\n",
            "is VBZ\n",
            "a DT\n",
            "? .\n",
            "? .\n",
            "sentence NN\n",
            "    _SP\n",
            "to TO\n",
            "practice VB\n",
            ". .\n",
            "tokenization NN\n",
            ", ,\n",
            "It PRP\n",
            "'s VBZ\n",
            "Awsome NNP\n"
          ]
        }
      ]
    },
    {
      "cell_type": "code",
      "source": [
        "for token in doc2:\n",
        "  print(token.text, token.lemma_)"
      ],
      "metadata": {
        "colab": {
          "base_uri": "https://localhost:8080/"
        },
        "id": "12ZIIBZn-70b",
        "outputId": "d327860e-5ec8-4e36-c02a-94ec24370488"
      },
      "execution_count": 15,
      "outputs": [
        {
          "output_type": "stream",
          "name": "stdout",
          "text": [
            "This this\n",
            "is be\n",
            "a a\n",
            "? ?\n",
            "? ?\n",
            "sentence sentence\n",
            "       \n",
            "to to\n",
            "practice practice\n",
            ". .\n",
            "tokenization tokenization\n",
            ", ,\n",
            "It -PRON-\n",
            "'s be\n",
            "Awsome Awsome\n"
          ]
        }
      ]
    },
    {
      "cell_type": "code",
      "source": [
        "for token in doc2:\n",
        "  print(token.text, token.shape_)"
      ],
      "metadata": {
        "colab": {
          "base_uri": "https://localhost:8080/"
        },
        "id": "sATDC0pl_DrX",
        "outputId": "067fbd03-ff5a-442d-c35d-52080aff5afd"
      },
      "execution_count": 16,
      "outputs": [
        {
          "output_type": "stream",
          "name": "stdout",
          "text": [
            "This Xxxx\n",
            "is xx\n",
            "a x\n",
            "? ?\n",
            "? ?\n",
            "sentence xxxx\n",
            "       \n",
            "to xx\n",
            "practice xxxx\n",
            ". .\n",
            "tokenization xxxx\n",
            ", ,\n",
            "It Xx\n",
            "'s 'x\n",
            "Awsome Xxxxx\n"
          ]
        }
      ]
    },
    {
      "cell_type": "code",
      "source": [
        "for token in doc2:\n",
        "  print(type(token))"
      ],
      "metadata": {
        "colab": {
          "base_uri": "https://localhost:8080/"
        },
        "id": "qYqCfu-h_Rrm",
        "outputId": "fc000410-4bcd-4a78-b101-e11d1060ae5a"
      },
      "execution_count": 17,
      "outputs": [
        {
          "output_type": "stream",
          "name": "stdout",
          "text": [
            "<class 'spacy.tokens.token.Token'>\n",
            "<class 'spacy.tokens.token.Token'>\n",
            "<class 'spacy.tokens.token.Token'>\n",
            "<class 'spacy.tokens.token.Token'>\n",
            "<class 'spacy.tokens.token.Token'>\n",
            "<class 'spacy.tokens.token.Token'>\n",
            "<class 'spacy.tokens.token.Token'>\n",
            "<class 'spacy.tokens.token.Token'>\n",
            "<class 'spacy.tokens.token.Token'>\n",
            "<class 'spacy.tokens.token.Token'>\n",
            "<class 'spacy.tokens.token.Token'>\n",
            "<class 'spacy.tokens.token.Token'>\n",
            "<class 'spacy.tokens.token.Token'>\n",
            "<class 'spacy.tokens.token.Token'>\n",
            "<class 'spacy.tokens.token.Token'>\n"
          ]
        }
      ]
    },
    {
      "cell_type": "markdown",
      "source": [
        "###Tokenization\n",
        "\n",
        "#####**Prefix**: chars at the beginning\n",
        "#####**Suffix**: chars at the end\n",
        "#####**Infix**: chars in between\n",
        "#####Exception\n"
      ],
      "metadata": {
        "id": "k2bmkuFQCJp3"
      }
    },
    {
      "cell_type": "code",
      "source": [
        "my_str=\"'We\\'re moving to L.A.!, are you coming?\""
      ],
      "metadata": {
        "id": "SN76Z52a_yVF"
      },
      "execution_count": 18,
      "outputs": []
    },
    {
      "cell_type": "code",
      "source": [
        "doc = nlp(my_str)"
      ],
      "metadata": {
        "id": "OVfPyaz4Dx_b"
      },
      "execution_count": 19,
      "outputs": []
    },
    {
      "cell_type": "code",
      "source": [
        "for token in doc:\n",
        "  print(token.text)"
      ],
      "metadata": {
        "colab": {
          "base_uri": "https://localhost:8080/"
        },
        "id": "7KyuV4Y3Dz5V",
        "outputId": "c5f642de-328f-4dc3-edc1-ea6431c9de94"
      },
      "execution_count": 23,
      "outputs": [
        {
          "output_type": "stream",
          "name": "stdout",
          "text": [
            "'\n",
            "We\n",
            "'re\n",
            "moving\n",
            "to\n",
            "L.A.\n",
            "!\n",
            ",\n",
            "are\n",
            "you\n",
            "coming\n",
            "?\n"
          ]
        }
      ]
    },
    {
      "cell_type": "code",
      "source": [
        "doc2 = nlp(u'Apple helped me create this http://popo@gmail.com gmail!, In L.A. with my freind in Japan so, I can only give you $153.61')"
      ],
      "metadata": {
        "id": "gv4h4sx6EKBq"
      },
      "execution_count": 32,
      "outputs": []
    },
    {
      "cell_type": "code",
      "source": [
        "for token in doc2:\n",
        "  print(token.text)"
      ],
      "metadata": {
        "colab": {
          "base_uri": "https://localhost:8080/"
        },
        "id": "Y0F6_LcAEdm0",
        "outputId": "c455ba39-e6b2-402a-ebb5-8101d33f9762"
      },
      "execution_count": 33,
      "outputs": [
        {
          "output_type": "stream",
          "name": "stdout",
          "text": [
            "Apple\n",
            "helped\n",
            "me\n",
            "create\n",
            "this\n",
            "http://popo@gmail.com\n",
            "gmail\n",
            "!\n",
            ",\n",
            "In\n",
            "L.A.\n",
            "with\n",
            "my\n",
            "freind\n",
            "in\n",
            "Japan\n",
            "so\n",
            ",\n",
            "I\n",
            "can\n",
            "only\n",
            "give\n",
            "you\n",
            "$\n",
            "153.61\n"
          ]
        }
      ]
    },
    {
      "cell_type": "code",
      "source": [
        "for entity in doc2.ents:\n",
        "  print(entity, entity.label_)\n",
        "  print(str(spacy.explain(entity.label_)))\n",
        "  print('\\n')"
      ],
      "metadata": {
        "colab": {
          "base_uri": "https://localhost:8080/"
        },
        "id": "Wgk0eRYREfaU",
        "outputId": "754f4c69-155d-421b-c727-47998ec49cd2"
      },
      "execution_count": 34,
      "outputs": [
        {
          "output_type": "stream",
          "name": "stdout",
          "text": [
            "Apple ORG\n",
            "Companies, agencies, institutions, etc.\n",
            "\n",
            "\n",
            "L.A. GPE\n",
            "Countries, cities, states\n",
            "\n",
            "\n",
            "Japan GPE\n",
            "Countries, cities, states\n",
            "\n",
            "\n",
            "153.61 MONEY\n",
            "Monetary values, including unit\n",
            "\n",
            "\n"
          ]
        }
      ]
    },
    {
      "cell_type": "code",
      "source": [
        "doc3 = nlp(u'a beautiful botterfly can go beyonds eyes so esi, be carefull')"
      ],
      "metadata": {
        "id": "EoKVXUhbF7RV"
      },
      "execution_count": 39,
      "outputs": []
    },
    {
      "cell_type": "code",
      "source": [
        "for chunk in doc3.noun_chunks:\n",
        "  print(chunk)"
      ],
      "metadata": {
        "colab": {
          "base_uri": "https://localhost:8080/"
        },
        "id": "3CdQDIvuGy69",
        "outputId": "b401b68b-0a0f-4264-defe-3f74cd53b6e0"
      },
      "execution_count": 40,
      "outputs": [
        {
          "output_type": "stream",
          "name": "stdout",
          "text": [
            "a beautiful botterfly\n",
            "beyonds eyes\n"
          ]
        }
      ]
    },
    {
      "cell_type": "code",
      "source": [
        ""
      ],
      "metadata": {
        "id": "udIr7RXAG4Rc"
      },
      "execution_count": null,
      "outputs": []
    }
  ]
}