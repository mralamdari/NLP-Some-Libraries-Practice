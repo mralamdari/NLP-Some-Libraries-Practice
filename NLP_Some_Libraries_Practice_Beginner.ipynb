{
  "nbformat": 4,
  "nbformat_minor": 0,
  "metadata": {
    "colab": {
      "name": "NLP-Some-Libraries-Practice-Beginner.ipynb",
      "provenance": [],
      "collapsed_sections": [],
      "authorship_tag": "ABX9TyNdm/5Z0DbVIVBE3TlIacth",
      "include_colab_link": true
    },
    "kernelspec": {
      "name": "python3",
      "display_name": "Python 3"
    },
    "language_info": {
      "name": "python"
    }
  },
  "cells": [
    {
      "cell_type": "markdown",
      "metadata": {
        "id": "view-in-github",
        "colab_type": "text"
      },
      "source": [
        "<a href=\"https://colab.research.google.com/github/mr-alamdari/NLP-Some-Libraries-Practice-Beginner/blob/main/NLP_Some_Libraries_Practice_Beginner.ipynb\" target=\"_parent\"><img src=\"https://colab.research.google.com/assets/colab-badge.svg\" alt=\"Open In Colab\"/></a>"
      ]
    },
    {
      "cell_type": "markdown",
      "source": [
        "#Spacy"
      ],
      "metadata": {
        "id": "MQbzT2xu5gYv"
      }
    },
    {
      "cell_type": "code",
      "execution_count": 1,
      "metadata": {
        "id": "zu1RKch94_UJ"
      },
      "outputs": [],
      "source": [
        "import spacy"
      ]
    },
    {
      "cell_type": "code",
      "source": [
        "nlp = spacy.load('en_core_web_sm')"
      ],
      "metadata": {
        "id": "OeM-1uWn5fpZ"
      },
      "execution_count": 3,
      "outputs": []
    },
    {
      "cell_type": "code",
      "source": [
        "doc = nlp('The First My spacy code, to learn this awsome library ')"
      ],
      "metadata": {
        "id": "HC9nDly-6A6T"
      },
      "execution_count": 4,
      "outputs": []
    },
    {
      "cell_type": "code",
      "source": [
        "doc"
      ],
      "metadata": {
        "colab": {
          "base_uri": "https://localhost:8080/"
        },
        "id": "o5clkpMs6U_c",
        "outputId": "08796f00-7fe0-4893-ca03-b64d932f5981"
      },
      "execution_count": 5,
      "outputs": [
        {
          "output_type": "execute_result",
          "data": {
            "text/plain": [
              "The First My spacy code, to learn this awsome library "
            ]
          },
          "metadata": {},
          "execution_count": 5
        }
      ]
    },
    {
      "cell_type": "code",
      "source": [
        "for token in doc:\n",
        "  print(token)\n",
        "  #print(token.text)"
      ],
      "metadata": {
        "colab": {
          "base_uri": "https://localhost:8080/"
        },
        "id": "ckHVFgmi6VoQ",
        "outputId": "738224e8-6d6f-4e7c-9d7a-33ccc0b691d8"
      },
      "execution_count": 10,
      "outputs": [
        {
          "output_type": "stream",
          "name": "stdout",
          "text": [
            "The\n",
            "First\n",
            "My\n",
            "spacy\n",
            "code\n",
            ",\n",
            "to\n",
            "learn\n",
            "this\n",
            "awsome\n",
            "library\n"
          ]
        }
      ]
    },
    {
      "cell_type": "code",
      "source": [
        "# pos ===> Part of Speach\n",
        "for token in doc:\n",
        "  print(token.text, token.pos, token.pos_)"
      ],
      "metadata": {
        "colab": {
          "base_uri": "https://localhost:8080/"
        },
        "id": "cI_B7QIM6YrI",
        "outputId": "4f427e17-4b3f-42bf-9485-8675c4ebb793"
      },
      "execution_count": 14,
      "outputs": [
        {
          "output_type": "stream",
          "name": "stdout",
          "text": [
            "The 90 DET\n",
            "First 96 PROPN\n",
            "My 90 DET\n",
            "spacy 92 NOUN\n",
            "code 92 NOUN\n",
            ", 97 PUNCT\n",
            "to 94 PART\n",
            "learn 100 VERB\n",
            "this 90 DET\n",
            "awsome 84 ADJ\n",
            "library 92 NOUN\n"
          ]
        }
      ]
    },
    {
      "cell_type": "code",
      "source": [
        "# dep ===> Syntactic dependency\n",
        "for token in doc:\n",
        "  print(token.text, token.dep_)"
      ],
      "metadata": {
        "colab": {
          "base_uri": "https://localhost:8080/"
        },
        "id": "ZILUIB4u6cAk",
        "outputId": "210b86a4-ba6a-4d5e-c1a5-b9b3f129481e"
      },
      "execution_count": 16,
      "outputs": [
        {
          "output_type": "stream",
          "name": "stdout",
          "text": [
            "The det\n",
            "First amod\n",
            "My poss\n",
            "spacy compound\n",
            "code ROOT\n",
            ", punct\n",
            "to aux\n",
            "learn relcl\n",
            "this det\n",
            "awsome compound\n",
            "library dobj\n"
          ]
        }
      ]
    },
    {
      "cell_type": "code",
      "source": [
        ""
      ],
      "metadata": {
        "id": "FrNE3QST65vB"
      },
      "execution_count": null,
      "outputs": []
    }
  ]
}