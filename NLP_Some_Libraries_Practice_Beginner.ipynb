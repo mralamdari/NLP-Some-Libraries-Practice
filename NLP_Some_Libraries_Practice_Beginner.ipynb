{
  "nbformat": 4,
  "nbformat_minor": 0,
  "metadata": {
    "colab": {
      "name": "NLP-Some-Libraries-Practice-Beginner.ipynb",
      "provenance": [],
      "collapsed_sections": [],
      "authorship_tag": "ABX9TyPJjf1E4208bDyVxE1sxYWG",
      "include_colab_link": true
    },
    "kernelspec": {
      "name": "python3",
      "display_name": "Python 3"
    },
    "language_info": {
      "name": "python"
    }
  },
  "cells": [
    {
      "cell_type": "markdown",
      "metadata": {
        "id": "view-in-github",
        "colab_type": "text"
      },
      "source": [
        "<a href=\"https://colab.research.google.com/github/mr-alamdari/NLP-Some-Libraries-Practice-Beginner/blob/main/NLP_Some_Libraries_Practice_Beginner.ipynb\" target=\"_parent\"><img src=\"https://colab.research.google.com/assets/colab-badge.svg\" alt=\"Open In Colab\"/></a>"
      ]
    },
    {
      "cell_type": "markdown",
      "source": [
        "#[Spacy](https://spacy.io/api)"
      ],
      "metadata": {
        "id": "MQbzT2xu5gYv"
      }
    },
    {
      "cell_type": "code",
      "execution_count": 1,
      "metadata": {
        "id": "zu1RKch94_UJ"
      },
      "outputs": [],
      "source": [
        "import spacy"
      ]
    },
    {
      "cell_type": "markdown",
      "source": [
        "###Loading a Model"
      ],
      "metadata": {
        "id": "_R4nqII77N3x"
      }
    },
    {
      "cell_type": "code",
      "source": [
        "nlp = spacy.load('en_core_web_sm')"
      ],
      "metadata": {
        "id": "OeM-1uWn5fpZ"
      },
      "execution_count": 2,
      "outputs": []
    },
    {
      "cell_type": "markdown",
      "source": [
        "###Apply the model to a document (doc object)"
      ],
      "metadata": {
        "id": "yBPXnnAP7Ran"
      }
    },
    {
      "cell_type": "code",
      "source": [
        "doc = nlp('The First My spacy code, to learn this awsome library ')"
      ],
      "metadata": {
        "id": "HC9nDly-6A6T"
      },
      "execution_count": 3,
      "outputs": []
    },
    {
      "cell_type": "code",
      "source": [
        "doc"
      ],
      "metadata": {
        "colab": {
          "base_uri": "https://localhost:8080/"
        },
        "id": "o5clkpMs6U_c",
        "outputId": "e2fc0327-9549-496e-f00c-1617b52f5d46"
      },
      "execution_count": 4,
      "outputs": [
        {
          "output_type": "execute_result",
          "data": {
            "text/plain": [
              "The First My spacy code, to learn this awsome library "
            ]
          },
          "metadata": {},
          "execution_count": 4
        }
      ]
    },
    {
      "cell_type": "code",
      "source": [
        "for token in doc:\n",
        "  print(token)\n",
        "  #print(token.text)"
      ],
      "metadata": {
        "colab": {
          "base_uri": "https://localhost:8080/"
        },
        "id": "ckHVFgmi6VoQ",
        "outputId": "21860693-c0be-433d-fa0c-bd320d5f39a1"
      },
      "execution_count": 5,
      "outputs": [
        {
          "output_type": "stream",
          "name": "stdout",
          "text": [
            "The\n",
            "First\n",
            "My\n",
            "spacy\n",
            "code\n",
            ",\n",
            "to\n",
            "learn\n",
            "this\n",
            "awsome\n",
            "library\n"
          ]
        }
      ]
    },
    {
      "cell_type": "code",
      "source": [
        "# pos ===> Part of Speach\n",
        "for token in doc:\n",
        "  print(token.text, token.pos, token.pos_)"
      ],
      "metadata": {
        "colab": {
          "base_uri": "https://localhost:8080/"
        },
        "id": "cI_B7QIM6YrI",
        "outputId": "9e362c8a-88b9-4f5f-bfca-cb6e6c153fe3"
      },
      "execution_count": 6,
      "outputs": [
        {
          "output_type": "stream",
          "name": "stdout",
          "text": [
            "The 90 DET\n",
            "First 96 PROPN\n",
            "My 90 DET\n",
            "spacy 92 NOUN\n",
            "code 92 NOUN\n",
            ", 97 PUNCT\n",
            "to 94 PART\n",
            "learn 100 VERB\n",
            "this 90 DET\n",
            "awsome 84 ADJ\n",
            "library 92 NOUN\n"
          ]
        }
      ]
    },
    {
      "cell_type": "code",
      "source": [
        "# dep ===> Syntactic dependency\n",
        "for token in doc:\n",
        "  print(token.text, token.dep_)"
      ],
      "metadata": {
        "colab": {
          "base_uri": "https://localhost:8080/"
        },
        "id": "ZILUIB4u6cAk",
        "outputId": "b7cc2040-365c-49e0-e259-f848a080898f"
      },
      "execution_count": 7,
      "outputs": [
        {
          "output_type": "stream",
          "name": "stdout",
          "text": [
            "The det\n",
            "First amod\n",
            "My poss\n",
            "spacy compound\n",
            "code ROOT\n",
            ", punct\n",
            "to aux\n",
            "learn relcl\n",
            "this det\n",
            "awsome compound\n",
            "library dobj\n"
          ]
        }
      ]
    },
    {
      "cell_type": "code",
      "source": [
        "nlp.pipeline"
      ],
      "metadata": {
        "colab": {
          "base_uri": "https://localhost:8080/"
        },
        "id": "FrNE3QST65vB",
        "outputId": "70f53fb7-6a32-470c-9251-2088d00b7f92"
      },
      "execution_count": 8,
      "outputs": [
        {
          "output_type": "execute_result",
          "data": {
            "text/plain": [
              "[('tagger', <spacy.pipeline.pipes.Tagger at 0x7fccfa7aa0d0>),\n",
              " ('parser', <spacy.pipeline.pipes.DependencyParser at 0x7fccfa815d70>),\n",
              " ('ner', <spacy.pipeline.pipes.EntityRecognizer at 0x7fccfa815f30>)]"
            ]
          },
          "metadata": {},
          "execution_count": 8
        }
      ]
    },
    {
      "cell_type": "code",
      "source": [
        "nlp.pipe_names"
      ],
      "metadata": {
        "colab": {
          "base_uri": "https://localhost:8080/"
        },
        "id": "jGPP-q1Y7lcy",
        "outputId": "6e818ad8-3e44-4978-a607-2c4a3b9891fc"
      },
      "execution_count": 9,
      "outputs": [
        {
          "output_type": "execute_result",
          "data": {
            "text/plain": [
              "['tagger', 'parser', 'ner']"
            ]
          },
          "metadata": {},
          "execution_count": 9
        }
      ]
    },
    {
      "cell_type": "code",
      "source": [
        "doc2 = nlp(u\"This is a ?? sentence    to practice. tokenization, It's Awsome\")"
      ],
      "metadata": {
        "id": "Xg5ZDZiy7xnp"
      },
      "execution_count": 10,
      "outputs": []
    },
    {
      "cell_type": "code",
      "source": [
        "for token in doc2:\n",
        "  print(token.text, token.pos_, token.dep_)"
      ],
      "metadata": {
        "colab": {
          "base_uri": "https://localhost:8080/"
        },
        "id": "bm4N8nIw795Q",
        "outputId": "d0d65e5c-ec6d-4ba5-9bd2-0f2ae55c0e3a"
      },
      "execution_count": 11,
      "outputs": [
        {
          "output_type": "stream",
          "name": "stdout",
          "text": [
            "This DET nsubj\n",
            "is AUX ROOT\n",
            "a DET attr\n",
            "? PUNCT punct\n",
            "? PUNCT punct\n",
            "sentence NOUN npadvmod\n",
            "    SPACE \n",
            "to PART aux\n",
            "practice VERB ROOT\n",
            ". PUNCT punct\n",
            "tokenization NOUN npadvmod\n",
            ", PUNCT punct\n",
            "It PRON nsubj\n",
            "'s AUX ROOT\n",
            "Awsome PROPN attr\n"
          ]
        }
      ]
    },
    {
      "cell_type": "code",
      "source": [
        "for token in doc2:\n",
        "  print(token.text, token.tag_)"
      ],
      "metadata": {
        "colab": {
          "base_uri": "https://localhost:8080/"
        },
        "id": "zHgR9ZRW8e0U",
        "outputId": "cf6ed9f7-6850-4a6a-eb60-64901ba58d4a"
      },
      "execution_count": 12,
      "outputs": [
        {
          "output_type": "stream",
          "name": "stdout",
          "text": [
            "This DT\n",
            "is VBZ\n",
            "a DT\n",
            "? .\n",
            "? .\n",
            "sentence NN\n",
            "    _SP\n",
            "to TO\n",
            "practice VB\n",
            ". .\n",
            "tokenization NN\n",
            ", ,\n",
            "It PRP\n",
            "'s VBZ\n",
            "Awsome NNP\n"
          ]
        }
      ]
    },
    {
      "cell_type": "code",
      "source": [
        "for token in doc2:\n",
        "  print(token.text, token.lemma_)"
      ],
      "metadata": {
        "colab": {
          "base_uri": "https://localhost:8080/"
        },
        "id": "12ZIIBZn-70b",
        "outputId": "2993ca64-0360-4b0e-d657-026929ce0503"
      },
      "execution_count": 13,
      "outputs": [
        {
          "output_type": "stream",
          "name": "stdout",
          "text": [
            "This this\n",
            "is be\n",
            "a a\n",
            "? ?\n",
            "? ?\n",
            "sentence sentence\n",
            "       \n",
            "to to\n",
            "practice practice\n",
            ". .\n",
            "tokenization tokenization\n",
            ", ,\n",
            "It -PRON-\n",
            "'s be\n",
            "Awsome Awsome\n"
          ]
        }
      ]
    },
    {
      "cell_type": "code",
      "source": [
        "for token in doc2:\n",
        "  print(token.text, token.shape_)"
      ],
      "metadata": {
        "colab": {
          "base_uri": "https://localhost:8080/"
        },
        "id": "sATDC0pl_DrX",
        "outputId": "74e21583-5554-4a67-e42c-01e0f1c17636"
      },
      "execution_count": 14,
      "outputs": [
        {
          "output_type": "stream",
          "name": "stdout",
          "text": [
            "This Xxxx\n",
            "is xx\n",
            "a x\n",
            "? ?\n",
            "? ?\n",
            "sentence xxxx\n",
            "       \n",
            "to xx\n",
            "practice xxxx\n",
            ". .\n",
            "tokenization xxxx\n",
            ", ,\n",
            "It Xx\n",
            "'s 'x\n",
            "Awsome Xxxxx\n"
          ]
        }
      ]
    },
    {
      "cell_type": "code",
      "source": [
        "for token in doc2:\n",
        "  print(type(token))"
      ],
      "metadata": {
        "colab": {
          "base_uri": "https://localhost:8080/"
        },
        "id": "qYqCfu-h_Rrm",
        "outputId": "93b63356-825f-45c1-bb04-0241aa99ab22"
      },
      "execution_count": 15,
      "outputs": [
        {
          "output_type": "stream",
          "name": "stdout",
          "text": [
            "<class 'spacy.tokens.token.Token'>\n",
            "<class 'spacy.tokens.token.Token'>\n",
            "<class 'spacy.tokens.token.Token'>\n",
            "<class 'spacy.tokens.token.Token'>\n",
            "<class 'spacy.tokens.token.Token'>\n",
            "<class 'spacy.tokens.token.Token'>\n",
            "<class 'spacy.tokens.token.Token'>\n",
            "<class 'spacy.tokens.token.Token'>\n",
            "<class 'spacy.tokens.token.Token'>\n",
            "<class 'spacy.tokens.token.Token'>\n",
            "<class 'spacy.tokens.token.Token'>\n",
            "<class 'spacy.tokens.token.Token'>\n",
            "<class 'spacy.tokens.token.Token'>\n",
            "<class 'spacy.tokens.token.Token'>\n",
            "<class 'spacy.tokens.token.Token'>\n"
          ]
        }
      ]
    },
    {
      "cell_type": "markdown",
      "source": [
        "###Tokenization\n",
        "\n",
        "#####**Prefix**: chars at the beginning\n",
        "#####**Suffix**: chars at the end\n",
        "#####**Infix**: chars in between\n",
        "#####Exception\n"
      ],
      "metadata": {
        "id": "k2bmkuFQCJp3"
      }
    },
    {
      "cell_type": "code",
      "source": [
        "my_str=\"'We\\'re moving to L.A.!, are you coming?\""
      ],
      "metadata": {
        "id": "SN76Z52a_yVF"
      },
      "execution_count": 16,
      "outputs": []
    },
    {
      "cell_type": "code",
      "source": [
        "doc = nlp(my_str)"
      ],
      "metadata": {
        "id": "OVfPyaz4Dx_b"
      },
      "execution_count": 17,
      "outputs": []
    },
    {
      "cell_type": "code",
      "source": [
        "for token in doc:\n",
        "  print(token.text)"
      ],
      "metadata": {
        "colab": {
          "base_uri": "https://localhost:8080/"
        },
        "id": "7KyuV4Y3Dz5V",
        "outputId": "699fdbee-9239-4cca-978f-b8599cb73b4c"
      },
      "execution_count": 18,
      "outputs": [
        {
          "output_type": "stream",
          "name": "stdout",
          "text": [
            "'\n",
            "We\n",
            "'re\n",
            "moving\n",
            "to\n",
            "L.A.\n",
            "!\n",
            ",\n",
            "are\n",
            "you\n",
            "coming\n",
            "?\n"
          ]
        }
      ]
    },
    {
      "cell_type": "code",
      "source": [
        "doc2 = nlp(u'Apple helped me create this http://popo@gmail.com gmail!, In L.A. with my freind in Japan so, I can only give you $153.61')"
      ],
      "metadata": {
        "id": "gv4h4sx6EKBq"
      },
      "execution_count": 19,
      "outputs": []
    },
    {
      "cell_type": "code",
      "source": [
        "for token in doc2:\n",
        "  print(token.text)"
      ],
      "metadata": {
        "colab": {
          "base_uri": "https://localhost:8080/"
        },
        "id": "Y0F6_LcAEdm0",
        "outputId": "d6cd8928-0da3-43a5-9fc3-8cee09cd1fa7"
      },
      "execution_count": 20,
      "outputs": [
        {
          "output_type": "stream",
          "name": "stdout",
          "text": [
            "Apple\n",
            "helped\n",
            "me\n",
            "create\n",
            "this\n",
            "http://popo@gmail.com\n",
            "gmail\n",
            "!\n",
            ",\n",
            "In\n",
            "L.A.\n",
            "with\n",
            "my\n",
            "freind\n",
            "in\n",
            "Japan\n",
            "so\n",
            ",\n",
            "I\n",
            "can\n",
            "only\n",
            "give\n",
            "you\n",
            "$\n",
            "153.61\n"
          ]
        }
      ]
    },
    {
      "cell_type": "code",
      "source": [
        "for entity in doc2.ents:\n",
        "  print(entity, entity.label_)\n",
        "  print(str(spacy.explain(entity.label_)))\n",
        "  print('\\n')"
      ],
      "metadata": {
        "colab": {
          "base_uri": "https://localhost:8080/"
        },
        "id": "Wgk0eRYREfaU",
        "outputId": "2de9afbc-d202-4a77-8323-a869b11d2d69"
      },
      "execution_count": 21,
      "outputs": [
        {
          "output_type": "stream",
          "name": "stdout",
          "text": [
            "Apple ORG\n",
            "Companies, agencies, institutions, etc.\n",
            "\n",
            "\n",
            "L.A. GPE\n",
            "Countries, cities, states\n",
            "\n",
            "\n",
            "Japan GPE\n",
            "Countries, cities, states\n",
            "\n",
            "\n",
            "153.61 MONEY\n",
            "Monetary values, including unit\n",
            "\n",
            "\n"
          ]
        }
      ]
    },
    {
      "cell_type": "code",
      "source": [
        "doc3 = nlp(u'a beautiful butterfly can go beyonds eyes so esi, be carefull. yesterday IBM bought an apple for $5.5 millions')"
      ],
      "metadata": {
        "id": "EoKVXUhbF7RV"
      },
      "execution_count": 22,
      "outputs": []
    },
    {
      "cell_type": "code",
      "source": [
        "for chunk in doc3.noun_chunks:\n",
        "  print(chunk)"
      ],
      "metadata": {
        "colab": {
          "base_uri": "https://localhost:8080/"
        },
        "id": "3CdQDIvuGy69",
        "outputId": "e143b32a-c5f1-464c-ecd8-8af69317d27a"
      },
      "execution_count": 23,
      "outputs": [
        {
          "output_type": "stream",
          "name": "stdout",
          "text": [
            "a beautiful butterfly\n",
            "beyonds eyes\n",
            "IBM\n",
            "an apple\n",
            "$5.5 millions\n"
          ]
        }
      ]
    },
    {
      "cell_type": "code",
      "source": [
        "spacy.displacy.render(doc3, style='dep', jupyter=True, options={'distance':110})\n",
        "# spacy.displacy.serve(doc3, style='dep', jupyter=False, options={'distance':110})"
      ],
      "metadata": {
        "colab": {
          "base_uri": "https://localhost:8080/",
          "height": 343
        },
        "id": "udIr7RXAG4Rc",
        "outputId": "14e4047c-3701-4913-d072-b4af2fcb2987"
      },
      "execution_count": 24,
      "outputs": [
        {
          "output_type": "display_data",
          "data": {
            "text/plain": [
              "<IPython.core.display.HTML object>"
            ],
            "text/html": [
              "<span class=\"tex2jax_ignore\"><svg xmlns=\"http://www.w3.org/2000/svg\" xmlns:xlink=\"http://www.w3.org/1999/xlink\" xml:lang=\"en\" id=\"77be554a42774deab3fd728c0b01ca7d-0\" class=\"displacy\" width=\"2250\" height=\"302.0\" direction=\"ltr\" style=\"max-width: none; height: 302.0px; color: #000000; background: #ffffff; font-family: Arial; direction: ltr\">\n",
              "<text class=\"displacy-token\" fill=\"currentColor\" text-anchor=\"middle\" y=\"212.0\">\n",
              "    <tspan class=\"displacy-word\" fill=\"currentColor\" x=\"50\">a</tspan>\n",
              "    <tspan class=\"displacy-tag\" dy=\"2em\" fill=\"currentColor\" x=\"50\">DET</tspan>\n",
              "</text>\n",
              "\n",
              "<text class=\"displacy-token\" fill=\"currentColor\" text-anchor=\"middle\" y=\"212.0\">\n",
              "    <tspan class=\"displacy-word\" fill=\"currentColor\" x=\"160\">beautiful</tspan>\n",
              "    <tspan class=\"displacy-tag\" dy=\"2em\" fill=\"currentColor\" x=\"160\">ADJ</tspan>\n",
              "</text>\n",
              "\n",
              "<text class=\"displacy-token\" fill=\"currentColor\" text-anchor=\"middle\" y=\"212.0\">\n",
              "    <tspan class=\"displacy-word\" fill=\"currentColor\" x=\"270\">butterfly</tspan>\n",
              "    <tspan class=\"displacy-tag\" dy=\"2em\" fill=\"currentColor\" x=\"270\">NOUN</tspan>\n",
              "</text>\n",
              "\n",
              "<text class=\"displacy-token\" fill=\"currentColor\" text-anchor=\"middle\" y=\"212.0\">\n",
              "    <tspan class=\"displacy-word\" fill=\"currentColor\" x=\"380\">can</tspan>\n",
              "    <tspan class=\"displacy-tag\" dy=\"2em\" fill=\"currentColor\" x=\"380\">VERB</tspan>\n",
              "</text>\n",
              "\n",
              "<text class=\"displacy-token\" fill=\"currentColor\" text-anchor=\"middle\" y=\"212.0\">\n",
              "    <tspan class=\"displacy-word\" fill=\"currentColor\" x=\"490\">go</tspan>\n",
              "    <tspan class=\"displacy-tag\" dy=\"2em\" fill=\"currentColor\" x=\"490\">VERB</tspan>\n",
              "</text>\n",
              "\n",
              "<text class=\"displacy-token\" fill=\"currentColor\" text-anchor=\"middle\" y=\"212.0\">\n",
              "    <tspan class=\"displacy-word\" fill=\"currentColor\" x=\"600\">beyonds</tspan>\n",
              "    <tspan class=\"displacy-tag\" dy=\"2em\" fill=\"currentColor\" x=\"600\">NOUN</tspan>\n",
              "</text>\n",
              "\n",
              "<text class=\"displacy-token\" fill=\"currentColor\" text-anchor=\"middle\" y=\"212.0\">\n",
              "    <tspan class=\"displacy-word\" fill=\"currentColor\" x=\"710\">eyes</tspan>\n",
              "    <tspan class=\"displacy-tag\" dy=\"2em\" fill=\"currentColor\" x=\"710\">NOUN</tspan>\n",
              "</text>\n",
              "\n",
              "<text class=\"displacy-token\" fill=\"currentColor\" text-anchor=\"middle\" y=\"212.0\">\n",
              "    <tspan class=\"displacy-word\" fill=\"currentColor\" x=\"820\">so</tspan>\n",
              "    <tspan class=\"displacy-tag\" dy=\"2em\" fill=\"currentColor\" x=\"820\">ADV</tspan>\n",
              "</text>\n",
              "\n",
              "<text class=\"displacy-token\" fill=\"currentColor\" text-anchor=\"middle\" y=\"212.0\">\n",
              "    <tspan class=\"displacy-word\" fill=\"currentColor\" x=\"930\">esi,</tspan>\n",
              "    <tspan class=\"displacy-tag\" dy=\"2em\" fill=\"currentColor\" x=\"930\">ADJ</tspan>\n",
              "</text>\n",
              "\n",
              "<text class=\"displacy-token\" fill=\"currentColor\" text-anchor=\"middle\" y=\"212.0\">\n",
              "    <tspan class=\"displacy-word\" fill=\"currentColor\" x=\"1040\">be</tspan>\n",
              "    <tspan class=\"displacy-tag\" dy=\"2em\" fill=\"currentColor\" x=\"1040\">AUX</tspan>\n",
              "</text>\n",
              "\n",
              "<text class=\"displacy-token\" fill=\"currentColor\" text-anchor=\"middle\" y=\"212.0\">\n",
              "    <tspan class=\"displacy-word\" fill=\"currentColor\" x=\"1150\">carefull.</tspan>\n",
              "    <tspan class=\"displacy-tag\" dy=\"2em\" fill=\"currentColor\" x=\"1150\">ADJ</tspan>\n",
              "</text>\n",
              "\n",
              "<text class=\"displacy-token\" fill=\"currentColor\" text-anchor=\"middle\" y=\"212.0\">\n",
              "    <tspan class=\"displacy-word\" fill=\"currentColor\" x=\"1260\">yesterday</tspan>\n",
              "    <tspan class=\"displacy-tag\" dy=\"2em\" fill=\"currentColor\" x=\"1260\">NOUN</tspan>\n",
              "</text>\n",
              "\n",
              "<text class=\"displacy-token\" fill=\"currentColor\" text-anchor=\"middle\" y=\"212.0\">\n",
              "    <tspan class=\"displacy-word\" fill=\"currentColor\" x=\"1370\">IBM</tspan>\n",
              "    <tspan class=\"displacy-tag\" dy=\"2em\" fill=\"currentColor\" x=\"1370\">PROPN</tspan>\n",
              "</text>\n",
              "\n",
              "<text class=\"displacy-token\" fill=\"currentColor\" text-anchor=\"middle\" y=\"212.0\">\n",
              "    <tspan class=\"displacy-word\" fill=\"currentColor\" x=\"1480\">bought</tspan>\n",
              "    <tspan class=\"displacy-tag\" dy=\"2em\" fill=\"currentColor\" x=\"1480\">VERB</tspan>\n",
              "</text>\n",
              "\n",
              "<text class=\"displacy-token\" fill=\"currentColor\" text-anchor=\"middle\" y=\"212.0\">\n",
              "    <tspan class=\"displacy-word\" fill=\"currentColor\" x=\"1590\">an</tspan>\n",
              "    <tspan class=\"displacy-tag\" dy=\"2em\" fill=\"currentColor\" x=\"1590\">DET</tspan>\n",
              "</text>\n",
              "\n",
              "<text class=\"displacy-token\" fill=\"currentColor\" text-anchor=\"middle\" y=\"212.0\">\n",
              "    <tspan class=\"displacy-word\" fill=\"currentColor\" x=\"1700\">apple</tspan>\n",
              "    <tspan class=\"displacy-tag\" dy=\"2em\" fill=\"currentColor\" x=\"1700\">NOUN</tspan>\n",
              "</text>\n",
              "\n",
              "<text class=\"displacy-token\" fill=\"currentColor\" text-anchor=\"middle\" y=\"212.0\">\n",
              "    <tspan class=\"displacy-word\" fill=\"currentColor\" x=\"1810\">for</tspan>\n",
              "    <tspan class=\"displacy-tag\" dy=\"2em\" fill=\"currentColor\" x=\"1810\">ADP</tspan>\n",
              "</text>\n",
              "\n",
              "<text class=\"displacy-token\" fill=\"currentColor\" text-anchor=\"middle\" y=\"212.0\">\n",
              "    <tspan class=\"displacy-word\" fill=\"currentColor\" x=\"1920\">$</tspan>\n",
              "    <tspan class=\"displacy-tag\" dy=\"2em\" fill=\"currentColor\" x=\"1920\">SYM</tspan>\n",
              "</text>\n",
              "\n",
              "<text class=\"displacy-token\" fill=\"currentColor\" text-anchor=\"middle\" y=\"212.0\">\n",
              "    <tspan class=\"displacy-word\" fill=\"currentColor\" x=\"2030\">5.5</tspan>\n",
              "    <tspan class=\"displacy-tag\" dy=\"2em\" fill=\"currentColor\" x=\"2030\">NUM</tspan>\n",
              "</text>\n",
              "\n",
              "<text class=\"displacy-token\" fill=\"currentColor\" text-anchor=\"middle\" y=\"212.0\">\n",
              "    <tspan class=\"displacy-word\" fill=\"currentColor\" x=\"2140\">millions</tspan>\n",
              "    <tspan class=\"displacy-tag\" dy=\"2em\" fill=\"currentColor\" x=\"2140\">NOUN</tspan>\n",
              "</text>\n",
              "\n",
              "<g class=\"displacy-arrow\">\n",
              "    <path class=\"displacy-arc\" id=\"arrow-77be554a42774deab3fd728c0b01ca7d-0-0\" stroke-width=\"2px\" d=\"M70,167.0 C70,57.0 265.0,57.0 265.0,167.0\" fill=\"none\" stroke=\"currentColor\"/>\n",
              "    <text dy=\"1.25em\" style=\"font-size: 0.8em; letter-spacing: 1px\">\n",
              "        <textPath xlink:href=\"#arrow-77be554a42774deab3fd728c0b01ca7d-0-0\" class=\"displacy-label\" startOffset=\"50%\" side=\"left\" fill=\"currentColor\" text-anchor=\"middle\">det</textPath>\n",
              "    </text>\n",
              "    <path class=\"displacy-arrowhead\" d=\"M70,169.0 L62,157.0 78,157.0\" fill=\"currentColor\"/>\n",
              "</g>\n",
              "\n",
              "<g class=\"displacy-arrow\">\n",
              "    <path class=\"displacy-arc\" id=\"arrow-77be554a42774deab3fd728c0b01ca7d-0-1\" stroke-width=\"2px\" d=\"M180,167.0 C180,112.0 260.0,112.0 260.0,167.0\" fill=\"none\" stroke=\"currentColor\"/>\n",
              "    <text dy=\"1.25em\" style=\"font-size: 0.8em; letter-spacing: 1px\">\n",
              "        <textPath xlink:href=\"#arrow-77be554a42774deab3fd728c0b01ca7d-0-1\" class=\"displacy-label\" startOffset=\"50%\" side=\"left\" fill=\"currentColor\" text-anchor=\"middle\">amod</textPath>\n",
              "    </text>\n",
              "    <path class=\"displacy-arrowhead\" d=\"M180,169.0 L172,157.0 188,157.0\" fill=\"currentColor\"/>\n",
              "</g>\n",
              "\n",
              "<g class=\"displacy-arrow\">\n",
              "    <path class=\"displacy-arc\" id=\"arrow-77be554a42774deab3fd728c0b01ca7d-0-2\" stroke-width=\"2px\" d=\"M290,167.0 C290,57.0 485.0,57.0 485.0,167.0\" fill=\"none\" stroke=\"currentColor\"/>\n",
              "    <text dy=\"1.25em\" style=\"font-size: 0.8em; letter-spacing: 1px\">\n",
              "        <textPath xlink:href=\"#arrow-77be554a42774deab3fd728c0b01ca7d-0-2\" class=\"displacy-label\" startOffset=\"50%\" side=\"left\" fill=\"currentColor\" text-anchor=\"middle\">nsubj</textPath>\n",
              "    </text>\n",
              "    <path class=\"displacy-arrowhead\" d=\"M290,169.0 L282,157.0 298,157.0\" fill=\"currentColor\"/>\n",
              "</g>\n",
              "\n",
              "<g class=\"displacy-arrow\">\n",
              "    <path class=\"displacy-arc\" id=\"arrow-77be554a42774deab3fd728c0b01ca7d-0-3\" stroke-width=\"2px\" d=\"M400,167.0 C400,112.0 480.0,112.0 480.0,167.0\" fill=\"none\" stroke=\"currentColor\"/>\n",
              "    <text dy=\"1.25em\" style=\"font-size: 0.8em; letter-spacing: 1px\">\n",
              "        <textPath xlink:href=\"#arrow-77be554a42774deab3fd728c0b01ca7d-0-3\" class=\"displacy-label\" startOffset=\"50%\" side=\"left\" fill=\"currentColor\" text-anchor=\"middle\">aux</textPath>\n",
              "    </text>\n",
              "    <path class=\"displacy-arrowhead\" d=\"M400,169.0 L392,157.0 408,157.0\" fill=\"currentColor\"/>\n",
              "</g>\n",
              "\n",
              "<g class=\"displacy-arrow\">\n",
              "    <path class=\"displacy-arc\" id=\"arrow-77be554a42774deab3fd728c0b01ca7d-0-4\" stroke-width=\"2px\" d=\"M620,167.0 C620,112.0 700.0,112.0 700.0,167.0\" fill=\"none\" stroke=\"currentColor\"/>\n",
              "    <text dy=\"1.25em\" style=\"font-size: 0.8em; letter-spacing: 1px\">\n",
              "        <textPath xlink:href=\"#arrow-77be554a42774deab3fd728c0b01ca7d-0-4\" class=\"displacy-label\" startOffset=\"50%\" side=\"left\" fill=\"currentColor\" text-anchor=\"middle\">compound</textPath>\n",
              "    </text>\n",
              "    <path class=\"displacy-arrowhead\" d=\"M620,169.0 L612,157.0 628,157.0\" fill=\"currentColor\"/>\n",
              "</g>\n",
              "\n",
              "<g class=\"displacy-arrow\">\n",
              "    <path class=\"displacy-arc\" id=\"arrow-77be554a42774deab3fd728c0b01ca7d-0-5\" stroke-width=\"2px\" d=\"M510,167.0 C510,57.0 705.0,57.0 705.0,167.0\" fill=\"none\" stroke=\"currentColor\"/>\n",
              "    <text dy=\"1.25em\" style=\"font-size: 0.8em; letter-spacing: 1px\">\n",
              "        <textPath xlink:href=\"#arrow-77be554a42774deab3fd728c0b01ca7d-0-5\" class=\"displacy-label\" startOffset=\"50%\" side=\"left\" fill=\"currentColor\" text-anchor=\"middle\">dobj</textPath>\n",
              "    </text>\n",
              "    <path class=\"displacy-arrowhead\" d=\"M705.0,169.0 L713.0,157.0 697.0,157.0\" fill=\"currentColor\"/>\n",
              "</g>\n",
              "\n",
              "<g class=\"displacy-arrow\">\n",
              "    <path class=\"displacy-arc\" id=\"arrow-77be554a42774deab3fd728c0b01ca7d-0-6\" stroke-width=\"2px\" d=\"M840,167.0 C840,112.0 920.0,112.0 920.0,167.0\" fill=\"none\" stroke=\"currentColor\"/>\n",
              "    <text dy=\"1.25em\" style=\"font-size: 0.8em; letter-spacing: 1px\">\n",
              "        <textPath xlink:href=\"#arrow-77be554a42774deab3fd728c0b01ca7d-0-6\" class=\"displacy-label\" startOffset=\"50%\" side=\"left\" fill=\"currentColor\" text-anchor=\"middle\">advmod</textPath>\n",
              "    </text>\n",
              "    <path class=\"displacy-arrowhead\" d=\"M840,169.0 L832,157.0 848,157.0\" fill=\"currentColor\"/>\n",
              "</g>\n",
              "\n",
              "<g class=\"displacy-arrow\">\n",
              "    <path class=\"displacy-arc\" id=\"arrow-77be554a42774deab3fd728c0b01ca7d-0-7\" stroke-width=\"2px\" d=\"M950,167.0 C950,112.0 1030.0,112.0 1030.0,167.0\" fill=\"none\" stroke=\"currentColor\"/>\n",
              "    <text dy=\"1.25em\" style=\"font-size: 0.8em; letter-spacing: 1px\">\n",
              "        <textPath xlink:href=\"#arrow-77be554a42774deab3fd728c0b01ca7d-0-7\" class=\"displacy-label\" startOffset=\"50%\" side=\"left\" fill=\"currentColor\" text-anchor=\"middle\">nsubj</textPath>\n",
              "    </text>\n",
              "    <path class=\"displacy-arrowhead\" d=\"M950,169.0 L942,157.0 958,157.0\" fill=\"currentColor\"/>\n",
              "</g>\n",
              "\n",
              "<g class=\"displacy-arrow\">\n",
              "    <path class=\"displacy-arc\" id=\"arrow-77be554a42774deab3fd728c0b01ca7d-0-8\" stroke-width=\"2px\" d=\"M1060,167.0 C1060,112.0 1140.0,112.0 1140.0,167.0\" fill=\"none\" stroke=\"currentColor\"/>\n",
              "    <text dy=\"1.25em\" style=\"font-size: 0.8em; letter-spacing: 1px\">\n",
              "        <textPath xlink:href=\"#arrow-77be554a42774deab3fd728c0b01ca7d-0-8\" class=\"displacy-label\" startOffset=\"50%\" side=\"left\" fill=\"currentColor\" text-anchor=\"middle\">acomp</textPath>\n",
              "    </text>\n",
              "    <path class=\"displacy-arrowhead\" d=\"M1140.0,169.0 L1148.0,157.0 1132.0,157.0\" fill=\"currentColor\"/>\n",
              "</g>\n",
              "\n",
              "<g class=\"displacy-arrow\">\n",
              "    <path class=\"displacy-arc\" id=\"arrow-77be554a42774deab3fd728c0b01ca7d-0-9\" stroke-width=\"2px\" d=\"M1280,167.0 C1280,57.0 1475.0,57.0 1475.0,167.0\" fill=\"none\" stroke=\"currentColor\"/>\n",
              "    <text dy=\"1.25em\" style=\"font-size: 0.8em; letter-spacing: 1px\">\n",
              "        <textPath xlink:href=\"#arrow-77be554a42774deab3fd728c0b01ca7d-0-9\" class=\"displacy-label\" startOffset=\"50%\" side=\"left\" fill=\"currentColor\" text-anchor=\"middle\">npadvmod</textPath>\n",
              "    </text>\n",
              "    <path class=\"displacy-arrowhead\" d=\"M1280,169.0 L1272,157.0 1288,157.0\" fill=\"currentColor\"/>\n",
              "</g>\n",
              "\n",
              "<g class=\"displacy-arrow\">\n",
              "    <path class=\"displacy-arc\" id=\"arrow-77be554a42774deab3fd728c0b01ca7d-0-10\" stroke-width=\"2px\" d=\"M1390,167.0 C1390,112.0 1470.0,112.0 1470.0,167.0\" fill=\"none\" stroke=\"currentColor\"/>\n",
              "    <text dy=\"1.25em\" style=\"font-size: 0.8em; letter-spacing: 1px\">\n",
              "        <textPath xlink:href=\"#arrow-77be554a42774deab3fd728c0b01ca7d-0-10\" class=\"displacy-label\" startOffset=\"50%\" side=\"left\" fill=\"currentColor\" text-anchor=\"middle\">nsubj</textPath>\n",
              "    </text>\n",
              "    <path class=\"displacy-arrowhead\" d=\"M1390,169.0 L1382,157.0 1398,157.0\" fill=\"currentColor\"/>\n",
              "</g>\n",
              "\n",
              "<g class=\"displacy-arrow\">\n",
              "    <path class=\"displacy-arc\" id=\"arrow-77be554a42774deab3fd728c0b01ca7d-0-11\" stroke-width=\"2px\" d=\"M1610,167.0 C1610,112.0 1690.0,112.0 1690.0,167.0\" fill=\"none\" stroke=\"currentColor\"/>\n",
              "    <text dy=\"1.25em\" style=\"font-size: 0.8em; letter-spacing: 1px\">\n",
              "        <textPath xlink:href=\"#arrow-77be554a42774deab3fd728c0b01ca7d-0-11\" class=\"displacy-label\" startOffset=\"50%\" side=\"left\" fill=\"currentColor\" text-anchor=\"middle\">det</textPath>\n",
              "    </text>\n",
              "    <path class=\"displacy-arrowhead\" d=\"M1610,169.0 L1602,157.0 1618,157.0\" fill=\"currentColor\"/>\n",
              "</g>\n",
              "\n",
              "<g class=\"displacy-arrow\">\n",
              "    <path class=\"displacy-arc\" id=\"arrow-77be554a42774deab3fd728c0b01ca7d-0-12\" stroke-width=\"2px\" d=\"M1500,167.0 C1500,57.0 1695.0,57.0 1695.0,167.0\" fill=\"none\" stroke=\"currentColor\"/>\n",
              "    <text dy=\"1.25em\" style=\"font-size: 0.8em; letter-spacing: 1px\">\n",
              "        <textPath xlink:href=\"#arrow-77be554a42774deab3fd728c0b01ca7d-0-12\" class=\"displacy-label\" startOffset=\"50%\" side=\"left\" fill=\"currentColor\" text-anchor=\"middle\">dobj</textPath>\n",
              "    </text>\n",
              "    <path class=\"displacy-arrowhead\" d=\"M1695.0,169.0 L1703.0,157.0 1687.0,157.0\" fill=\"currentColor\"/>\n",
              "</g>\n",
              "\n",
              "<g class=\"displacy-arrow\">\n",
              "    <path class=\"displacy-arc\" id=\"arrow-77be554a42774deab3fd728c0b01ca7d-0-13\" stroke-width=\"2px\" d=\"M1500,167.0 C1500,2.0 1810.0,2.0 1810.0,167.0\" fill=\"none\" stroke=\"currentColor\"/>\n",
              "    <text dy=\"1.25em\" style=\"font-size: 0.8em; letter-spacing: 1px\">\n",
              "        <textPath xlink:href=\"#arrow-77be554a42774deab3fd728c0b01ca7d-0-13\" class=\"displacy-label\" startOffset=\"50%\" side=\"left\" fill=\"currentColor\" text-anchor=\"middle\">prep</textPath>\n",
              "    </text>\n",
              "    <path class=\"displacy-arrowhead\" d=\"M1810.0,169.0 L1818.0,157.0 1802.0,157.0\" fill=\"currentColor\"/>\n",
              "</g>\n",
              "\n",
              "<g class=\"displacy-arrow\">\n",
              "    <path class=\"displacy-arc\" id=\"arrow-77be554a42774deab3fd728c0b01ca7d-0-14\" stroke-width=\"2px\" d=\"M1940,167.0 C1940,57.0 2135.0,57.0 2135.0,167.0\" fill=\"none\" stroke=\"currentColor\"/>\n",
              "    <text dy=\"1.25em\" style=\"font-size: 0.8em; letter-spacing: 1px\">\n",
              "        <textPath xlink:href=\"#arrow-77be554a42774deab3fd728c0b01ca7d-0-14\" class=\"displacy-label\" startOffset=\"50%\" side=\"left\" fill=\"currentColor\" text-anchor=\"middle\">quantmod</textPath>\n",
              "    </text>\n",
              "    <path class=\"displacy-arrowhead\" d=\"M1940,169.0 L1932,157.0 1948,157.0\" fill=\"currentColor\"/>\n",
              "</g>\n",
              "\n",
              "<g class=\"displacy-arrow\">\n",
              "    <path class=\"displacy-arc\" id=\"arrow-77be554a42774deab3fd728c0b01ca7d-0-15\" stroke-width=\"2px\" d=\"M2050,167.0 C2050,112.0 2130.0,112.0 2130.0,167.0\" fill=\"none\" stroke=\"currentColor\"/>\n",
              "    <text dy=\"1.25em\" style=\"font-size: 0.8em; letter-spacing: 1px\">\n",
              "        <textPath xlink:href=\"#arrow-77be554a42774deab3fd728c0b01ca7d-0-15\" class=\"displacy-label\" startOffset=\"50%\" side=\"left\" fill=\"currentColor\" text-anchor=\"middle\">nummod</textPath>\n",
              "    </text>\n",
              "    <path class=\"displacy-arrowhead\" d=\"M2050,169.0 L2042,157.0 2058,157.0\" fill=\"currentColor\"/>\n",
              "</g>\n",
              "\n",
              "<g class=\"displacy-arrow\">\n",
              "    <path class=\"displacy-arc\" id=\"arrow-77be554a42774deab3fd728c0b01ca7d-0-16\" stroke-width=\"2px\" d=\"M1830,167.0 C1830,2.0 2140.0,2.0 2140.0,167.0\" fill=\"none\" stroke=\"currentColor\"/>\n",
              "    <text dy=\"1.25em\" style=\"font-size: 0.8em; letter-spacing: 1px\">\n",
              "        <textPath xlink:href=\"#arrow-77be554a42774deab3fd728c0b01ca7d-0-16\" class=\"displacy-label\" startOffset=\"50%\" side=\"left\" fill=\"currentColor\" text-anchor=\"middle\">pobj</textPath>\n",
              "    </text>\n",
              "    <path class=\"displacy-arrowhead\" d=\"M2140.0,169.0 L2148.0,157.0 2132.0,157.0\" fill=\"currentColor\"/>\n",
              "</g>\n",
              "</svg></span>"
            ]
          },
          "metadata": {}
        }
      ]
    },
    {
      "cell_type": "code",
      "source": [
        "spacy.displacy.render(doc3, style='ent', jupyter=True)\n",
        "# spacy.displacy.serve(doc3, style='ent', jupyter=False)"
      ],
      "metadata": {
        "colab": {
          "base_uri": "https://localhost:8080/",
          "height": 87
        },
        "id": "dlmmag5jNrBL",
        "outputId": "f2c46240-3852-424d-f162-ba77acdcb08c"
      },
      "execution_count": 25,
      "outputs": [
        {
          "output_type": "display_data",
          "data": {
            "text/plain": [
              "<IPython.core.display.HTML object>"
            ],
            "text/html": [
              "<span class=\"tex2jax_ignore\"><div class=\"entities\" style=\"line-height: 2.5; direction: ltr\">a beautiful butterfly can go beyonds eyes so esi, be carefull. \n",
              "<mark class=\"entity\" style=\"background: #bfe1d9; padding: 0.45em 0.6em; margin: 0 0.25em; line-height: 1; border-radius: 0.35em;\">\n",
              "    yesterday\n",
              "    <span style=\"font-size: 0.8em; font-weight: bold; line-height: 1; border-radius: 0.35em; text-transform: uppercase; vertical-align: middle; margin-left: 0.5rem\">DATE</span>\n",
              "</mark>\n",
              " \n",
              "<mark class=\"entity\" style=\"background: #7aecec; padding: 0.45em 0.6em; margin: 0 0.25em; line-height: 1; border-radius: 0.35em;\">\n",
              "    IBM\n",
              "    <span style=\"font-size: 0.8em; font-weight: bold; line-height: 1; border-radius: 0.35em; text-transform: uppercase; vertical-align: middle; margin-left: 0.5rem\">ORG</span>\n",
              "</mark>\n",
              " bought an apple for \n",
              "<mark class=\"entity\" style=\"background: #e4e7d2; padding: 0.45em 0.6em; margin: 0 0.25em; line-height: 1; border-radius: 0.35em;\">\n",
              "    $5.5 millions\n",
              "    <span style=\"font-size: 0.8em; font-weight: bold; line-height: 1; border-radius: 0.35em; text-transform: uppercase; vertical-align: middle; margin-left: 0.5rem\">MONEY</span>\n",
              "</mark>\n",
              "</div></span>"
            ]
          },
          "metadata": {}
        }
      ]
    },
    {
      "cell_type": "markdown",
      "source": [
        "###Stemming\n",
        "\n",
        "######a crude method for categoling related words"
      ],
      "metadata": {
        "id": "L9Zznl-4P8jn"
      }
    },
    {
      "cell_type": "code",
      "source": [
        "import nltk\n",
        "from nltk.stem.porter import PorterStemmer"
      ],
      "metadata": {
        "id": "AQWr2027OPfs"
      },
      "execution_count": 26,
      "outputs": []
    },
    {
      "cell_type": "code",
      "source": [
        "p_stemmer = PorterStemmer()"
      ],
      "metadata": {
        "id": "cqNMlOsiQzgY"
      },
      "execution_count": 27,
      "outputs": []
    },
    {
      "cell_type": "code",
      "source": [
        "words = ['runner', 'run', 'ran', 'runs', 'easy', 'easier', 'easiest']"
      ],
      "metadata": {
        "id": "82ouCyHHQ11f"
      },
      "execution_count": 28,
      "outputs": []
    },
    {
      "cell_type": "code",
      "source": [
        "for word in words:\n",
        "  print(f'{word} ----> {p_stemmer.stem(word)}')"
      ],
      "metadata": {
        "colab": {
          "base_uri": "https://localhost:8080/"
        },
        "id": "nKesZcojQ53f",
        "outputId": "0e6eba8a-8a5c-4e81-aa1d-aed0f71d7921"
      },
      "execution_count": 29,
      "outputs": [
        {
          "output_type": "stream",
          "name": "stdout",
          "text": [
            "runner ----> runner\n",
            "run ----> run\n",
            "ran ----> ran\n",
            "runs ----> run\n",
            "easy ----> easi\n",
            "easier ----> easier\n",
            "easiest ----> easiest\n"
          ]
        }
      ]
    },
    {
      "cell_type": "code",
      "source": [
        "from nltk.stem.snowball import SnowballStemmer"
      ],
      "metadata": {
        "id": "49m3hfYZRAqT"
      },
      "execution_count": 30,
      "outputs": []
    },
    {
      "cell_type": "code",
      "source": [
        "s_stemmer = SnowballStemmer(language='english')"
      ],
      "metadata": {
        "id": "gH4wGoTYRbkS"
      },
      "execution_count": 31,
      "outputs": []
    },
    {
      "cell_type": "code",
      "source": [
        "for word in words:\n",
        "  print(f'{word} ----> {s_stemmer.stem(word)}')"
      ],
      "metadata": {
        "colab": {
          "base_uri": "https://localhost:8080/"
        },
        "id": "CJCWOsGURjRX",
        "outputId": "df81983d-e64e-40f2-a67c-44a74776458f"
      },
      "execution_count": 32,
      "outputs": [
        {
          "output_type": "stream",
          "name": "stdout",
          "text": [
            "runner ----> runner\n",
            "run ----> run\n",
            "ran ----> ran\n",
            "runs ----> run\n",
            "easy ----> easi\n",
            "easier ----> easier\n",
            "easiest ----> easiest\n"
          ]
        }
      ]
    },
    {
      "cell_type": "markdown",
      "source": [
        "###Lemmatization\n",
        "######It is a more informative way of reducing down words to thier root"
      ],
      "metadata": {
        "id": "r79crEyWjvtO"
      }
    },
    {
      "cell_type": "code",
      "source": [
        "doc1 = nlp(u'I am a runner and loved runners, so i think running is awsome, so run when you can')"
      ],
      "metadata": {
        "id": "4hYF6oAaRoVK"
      },
      "execution_count": 33,
      "outputs": []
    },
    {
      "cell_type": "code",
      "source": [
        "for token in doc1:\n",
        "  print(token.text, token.pos_, token.lemma, token.lemma_)"
      ],
      "metadata": {
        "colab": {
          "base_uri": "https://localhost:8080/"
        },
        "id": "aW48W7wzkHX3",
        "outputId": "9ebdd4cc-e83b-4602-9fa7-454dae7922d7"
      },
      "execution_count": 38,
      "outputs": [
        {
          "output_type": "stream",
          "name": "stdout",
          "text": [
            "I PRON 561228191312463089 -PRON-\n",
            "am AUX 10382539506755952630 be\n",
            "a DET 11901859001352538922 a\n",
            "runner NOUN 12640964157389618806 runner\n",
            "and CCONJ 2283656566040971221 and\n",
            "loved VERB 3702023516439754181 love\n",
            "runners NOUN 12640964157389618806 runner\n",
            ", PUNCT 2593208677638477497 ,\n",
            "so CCONJ 9781598966686434415 so\n",
            "i PRON 5097672513440128799 i\n",
            "think VERB 16875814820671380748 think\n",
            "running VERB 12767647472892411841 run\n",
            "is AUX 10382539506755952630 be\n",
            "awsome ADJ 3521391281120521496 awsome\n",
            ", PUNCT 2593208677638477497 ,\n",
            "so ADV 9781598966686434415 so\n",
            "run VERB 12767647472892411841 run\n",
            "when ADV 15807309897752499399 when\n",
            "you PRON 561228191312463089 -PRON-\n",
            "can VERB 6635067063807956629 can\n"
          ]
        }
      ]
    },
    {
      "cell_type": "code",
      "source": [
        "for token in doc1:\n",
        "  print(token.text, token.lemma_)"
      ],
      "metadata": {
        "colab": {
          "base_uri": "https://localhost:8080/"
        },
        "id": "NkpZGIzEkSmz",
        "outputId": "df8804fb-df6d-4a89-fa29-cd91dc781381"
      },
      "execution_count": 39,
      "outputs": [
        {
          "output_type": "stream",
          "name": "stdout",
          "text": [
            "I -PRON-\n",
            "am be\n",
            "a a\n",
            "runner runner\n",
            "and and\n",
            "loved love\n",
            "runners runner\n",
            ", ,\n",
            "so so\n",
            "i i\n",
            "think think\n",
            "running run\n",
            "is be\n",
            "awsome awsome\n",
            ", ,\n",
            "so so\n",
            "run run\n",
            "when when\n",
            "you -PRON-\n",
            "can can\n"
          ]
        }
      ]
    },
    {
      "cell_type": "code",
      "source": [
        "def show_lemmas(doc):\n",
        "  for token in doc:\n",
        "    print(f'{token.text:{12}} {token.pos_:{10}} {token.lemma:<{22}} {token.lemma_}')"
      ],
      "metadata": {
        "id": "v-zyi7nRkuwr"
      },
      "execution_count": 49,
      "outputs": []
    },
    {
      "cell_type": "code",
      "source": [
        "show_lemmas(doc1)"
      ],
      "metadata": {
        "colab": {
          "base_uri": "https://localhost:8080/"
        },
        "id": "XK5sGiGWlSOY",
        "outputId": "9ebb727c-84e2-4237-d704-0694f4781635"
      },
      "execution_count": 50,
      "outputs": [
        {
          "output_type": "stream",
          "name": "stdout",
          "text": [
            "I            PRON       561228191312463089     -PRON-\n",
            "am           AUX        10382539506755952630   be\n",
            "a            DET        11901859001352538922   a\n",
            "runner       NOUN       12640964157389618806   runner\n",
            "and          CCONJ      2283656566040971221    and\n",
            "loved        VERB       3702023516439754181    love\n",
            "runners      NOUN       12640964157389618806   runner\n",
            ",            PUNCT      2593208677638477497    ,\n",
            "so           CCONJ      9781598966686434415    so\n",
            "i            PRON       5097672513440128799    i\n",
            "think        VERB       16875814820671380748   think\n",
            "running      VERB       12767647472892411841   run\n",
            "is           AUX        10382539506755952630   be\n",
            "awsome       ADJ        3521391281120521496    awsome\n",
            ",            PUNCT      2593208677638477497    ,\n",
            "so           ADV        9781598966686434415    so\n",
            "run          VERB       12767647472892411841   run\n",
            "when         ADV        15807309897752499399   when\n",
            "you          PRON       561228191312463089     -PRON-\n",
            "can          VERB       6635067063807956629    can\n"
          ]
        }
      ]
    },
    {
      "cell_type": "markdown",
      "source": [
        "###Stop words"
      ],
      "metadata": {
        "id": "V5itf5_Xmc3E"
      }
    },
    {
      "cell_type": "code",
      "source": [
        "print(nlp.Defaults.stop_words)"
      ],
      "metadata": {
        "colab": {
          "base_uri": "https://localhost:8080/"
        },
        "id": "TnNES5sclTc_",
        "outputId": "79b8df36-8f04-4860-dc2c-aea2c15b370c"
      },
      "execution_count": 51,
      "outputs": [
        {
          "output_type": "stream",
          "name": "stdout",
          "text": [
            "{'others', 'hers', 'see', 'through', 'from', 'before', 'latterly', \"n't\", 'could', 'during', 'someone', 'this', 'top', 'even', 'ourselves', 'yours', 'everyone', 'less', 'also', 'much', 'part', 'against', 'herein', 'myself', 'next', 'seeming', 'why', 'anyway', 'both', 'was', 'via', '’m', 'that', 'within', '’ve', 'themselves', 'often', 'twelve', 'off', 'therefore', '‘ll', 'front', 'however', 'have', 'wherever', 'these', 'whenever', 'namely', 'nobody', 'are', 'whose', 'give', 'her', 'amongst', 'anyhow', 'always', 'just', 'into', 'fifty', 'sometime', 'cannot', 'either', 'beforehand', 'some', 'among', 'in', 'those', 'anywhere', 'their', 'him', 'become', 're', 'really', 'by', 'above', 'noone', 'which', 'or', 'below', 'eleven', 'became', \"'re\", 'than', 'very', 'though', 'herself', 'mostly', 'here', 'say', 'due', 'moreover', 'wherein', 'further', 'down', 'the', 'back', 'should', 'anything', 'what', 'must', 'since', 'although', 'who', 'whole', \"'d\", 'forty', 'four', 'no', 'with', 'not', 'without', 'five', '‘d', 'our', 'whatever', 'done', 'we', 'nevertheless', 'nothing', 'fifteen', 'anyone', 'then', 'they', \"'s\", 'at', 'been', 'own', 'any', 'n‘t', 'keep', 'where', '’s', 'can', 'nine', 'latter', 'under', 'whereafter', 'side', 'quite', 'least', 'various', 'when', 'beyond', 'sixty', 'would', 'call', 'together', 'put', 'so', 'once', 'hereby', 'ca', 'thereby', 'whoever', 'serious', 'everything', 'between', '‘ve', 'towards', '‘s', 'an', 'of', 'seemed', 'whereby', 'elsewhere', 'get', 'hereupon', 'upon', 'he', 'seems', 'up', 'take', 'ten', 'will', 'is', 'does', 'about', 'three', 'something', 'for', 'therein', 'across', 'another', 'made', 'over', 'otherwise', 'too', 'to', 'most', '‘m', 'ours', 'already', 'none', 'somehow', 'out', 'more', 'yourselves', 'alone', 'unless', 'whereupon', 'same', 'many', 'how', \"'m\", 'nowhere', 'every', 'several', 'n’t', 'thence', 'each', 'one', 'twenty', 'yourself', 'ever', '’d', 'whom', 'itself', 'until', 'and', 'please', 'my', 'name', 'go', 'because', 'now', 'do', 'bottom', 'she', \"'ve\", 'it', 'whether', 'third', 'well', 'never', 'formerly', 'while', 'being', 'nor', 'seem', 'other', 'beside', 'thru', 'make', 'toward', 'yet', 'us', 'such', 'were', 'on', 'neither', '’ll', 'used', 'except', 'eight', 'full', 'has', '’re', 'else', 'becoming', 'indeed', 'along', 'rather', 'i', 'doing', 'you', 'around', 'mine', 'meanwhile', 'may', 'enough', 'there', 'after', 'did', 'perhaps', 'thereafter', 'amount', 'hundred', 'show', 'still', 'but', 'again', 'last', 'am', 'onto', 'move', 'per', 'everywhere', 'had', 'me', 'only', 'besides', 'whereas', 'hereafter', 'thereupon', 'whence', 'first', 'as', 'them', 'throughout', 'former', 'himself', 'almost', 'hence', 'using', 'your', 'regarding', 'somewhere', 'empty', 'might', 'sometimes', \"'ll\", 'if', 'two', 'afterwards', 'his', 'few', 'whither', 'be', 'a', 'behind', 'thus', 'all', 'six', 'becomes', 'its', '‘re'}\n"
          ]
        }
      ]
    },
    {
      "cell_type": "code",
      "source": [
        "len(nlp.Defaults.stop_words)"
      ],
      "metadata": {
        "colab": {
          "base_uri": "https://localhost:8080/"
        },
        "id": "kwwFt3y9mmWA",
        "outputId": "cb575011-d9e6-4b83-b415-229bd367b406"
      },
      "execution_count": 52,
      "outputs": [
        {
          "output_type": "execute_result",
          "data": {
            "text/plain": [
              "326"
            ]
          },
          "metadata": {},
          "execution_count": 52
        }
      ]
    },
    {
      "cell_type": "code",
      "source": [
        "nlp.vocab['is'].is_stop"
      ],
      "metadata": {
        "colab": {
          "base_uri": "https://localhost:8080/"
        },
        "id": "CtvUqP5RmqsA",
        "outputId": "8254281c-e49a-42c4-c028-2eca55c5cdae"
      },
      "execution_count": 55,
      "outputs": [
        {
          "output_type": "execute_result",
          "data": {
            "text/plain": [
              "True"
            ]
          },
          "metadata": {},
          "execution_count": 55
        }
      ]
    },
    {
      "cell_type": "markdown",
      "source": [
        "######Add a Stop Word"
      ],
      "metadata": {
        "id": "vxT9WD-8nEqQ"
      }
    },
    {
      "cell_type": "code",
      "source": [
        "s_word = 'btw'\n",
        "nlp.Defaults.stop_words.add(s_word)\n",
        "nlp.vocab[s_word].is_stop = True"
      ],
      "metadata": {
        "id": "Jdg15_aTmu1M"
      },
      "execution_count": 57,
      "outputs": []
    },
    {
      "cell_type": "code",
      "source": [
        "nlp.vocab['btw'].is_stop"
      ],
      "metadata": {
        "colab": {
          "base_uri": "https://localhost:8080/"
        },
        "id": "iD-j8fIam71f",
        "outputId": "87c78336-0208-447a-f6a4-35889cc5f359"
      },
      "execution_count": 58,
      "outputs": [
        {
          "output_type": "execute_result",
          "data": {
            "text/plain": [
              "True"
            ]
          },
          "metadata": {},
          "execution_count": 58
        }
      ]
    },
    {
      "cell_type": "markdown",
      "source": [
        "######Remove a stop word"
      ],
      "metadata": {
        "id": "2EFBklO8nQ7g"
      }
    },
    {
      "cell_type": "code",
      "source": [
        "s_word = 'beyond'\n",
        "nlp.Defaults.stop_words.remove(s_word)\n",
        "nlp.vocab[s_word].is_stop = False"
      ],
      "metadata": {
        "id": "84vEJPttnNA5"
      },
      "execution_count": 62,
      "outputs": []
    },
    {
      "cell_type": "code",
      "source": [
        "nlp.vocab['beyond'].is_stop"
      ],
      "metadata": {
        "colab": {
          "base_uri": "https://localhost:8080/"
        },
        "id": "BAmdQxiBnjgy",
        "outputId": "0c1311eb-8fe8-4c77-c921-8e360ff5692d"
      },
      "execution_count": 63,
      "outputs": [
        {
          "output_type": "execute_result",
          "data": {
            "text/plain": [
              "False"
            ]
          },
          "metadata": {},
          "execution_count": 63
        }
      ]
    },
    {
      "cell_type": "markdown",
      "source": [
        "######Matching and Vocabulary"
      ],
      "metadata": {
        "id": "pYmWaUhRo518"
      }
    },
    {
      "cell_type": "code",
      "source": [
        "matcher = spacy.matcher.Matcher(nlp.vocab)"
      ],
      "metadata": {
        "id": "hKkDOqGdnosC"
      },
      "execution_count": 65,
      "outputs": []
    },
    {
      "cell_type": "code",
      "source": [
        "#solarpower\n",
        "pattern1 = [{'LOWER': 'solarpower'}]\n",
        "# solar-power\n",
        "pattern2 = [{'LOWER': 'solar'}, {'IS_PUNCT': True}, {'LOWER': 'power'}]\n",
        "# solar power\n",
        "pattern3 = [{'LOWER': 'solar'}, {'LOWER': 'power'}]"
      ],
      "metadata": {
        "id": "z_64I1FmpK4o"
      },
      "execution_count": 69,
      "outputs": []
    },
    {
      "cell_type": "code",
      "source": [
        "matcher.add('SolarPower', None, pattern1, pattern2, pattern3)"
      ],
      "metadata": {
        "id": "tSc8s1Kkpw-9"
      },
      "execution_count": 70,
      "outputs": []
    },
    {
      "cell_type": "code",
      "source": [
        "doc = nlp(u'The Solar Power industry uses solarpower, so Solar-Power is amazing')"
      ],
      "metadata": {
        "id": "7ipjcOgaqJ57"
      },
      "execution_count": 71,
      "outputs": []
    },
    {
      "cell_type": "code",
      "source": [
        "matches = matcher(doc)"
      ],
      "metadata": {
        "id": "WOr4tKf3qeFp"
      },
      "execution_count": 73,
      "outputs": []
    },
    {
      "cell_type": "code",
      "source": [
        "matches"
      ],
      "metadata": {
        "colab": {
          "base_uri": "https://localhost:8080/"
        },
        "id": "i1KCRZ39qjgA",
        "outputId": "ed5097e8-122b-4428-87ee-47de60592fac"
      },
      "execution_count": 74,
      "outputs": [
        {
          "output_type": "execute_result",
          "data": {
            "text/plain": [
              "[(8656102463236116519, 1, 3),\n",
              " (8656102463236116519, 5, 6),\n",
              " (8656102463236116519, 8, 11)]"
            ]
          },
          "metadata": {},
          "execution_count": 74
        }
      ]
    },
    {
      "cell_type": "code",
      "source": [
        "for id, start, end in matches:\n",
        "  print(id, nlp.vocab.strings[id], doc[start: end].text)"
      ],
      "metadata": {
        "colab": {
          "base_uri": "https://localhost:8080/"
        },
        "id": "IJPcGzvvqkUs",
        "outputId": "03a021fd-f3a5-4298-c7f4-3c65c65b8a6b"
      },
      "execution_count": 77,
      "outputs": [
        {
          "output_type": "stream",
          "name": "stdout",
          "text": [
            "8656102463236116519 SolarPower Solar Power\n",
            "8656102463236116519 SolarPower solarpower\n",
            "8656102463236116519 SolarPower Solar-Power\n"
          ]
        }
      ]
    },
    {
      "cell_type": "code",
      "source": [
        "matcher.remove('SolarPower')"
      ],
      "metadata": {
        "id": "acZR-4qft3HE"
      },
      "execution_count": 78,
      "outputs": []
    },
    {
      "cell_type": "code",
      "source": [
        "pattern1 = [{'LOWER': 'solarpower'}]\n",
        "pattern2 = [{'LOWER': 'solar'}, {'IS_PUNCT': True, 'OP': '*'}, {'LOWER': 'power'}]"
      ],
      "metadata": {
        "id": "vUvYqcd-uVSo"
      },
      "execution_count": 79,
      "outputs": []
    },
    {
      "cell_type": "code",
      "source": [
        "matcher.add('SolarPower', None, pattern1, pattern2)"
      ],
      "metadata": {
        "id": "It2mDHaeukrx"
      },
      "execution_count": 80,
      "outputs": []
    },
    {
      "cell_type": "code",
      "source": [
        "doc2 = nlp(u'Solar----Power is Solar POWER')"
      ],
      "metadata": {
        "id": "NGZUSCFNuqD0"
      },
      "execution_count": 98,
      "outputs": []
    },
    {
      "cell_type": "code",
      "source": [
        "matcher(doc2)"
      ],
      "metadata": {
        "colab": {
          "base_uri": "https://localhost:8080/"
        },
        "id": "ip1gAgO6u7JR",
        "outputId": "7d8f197d-f713-420b-9580-96261d596110"
      },
      "execution_count": 100,
      "outputs": [
        {
          "output_type": "execute_result",
          "data": {
            "text/plain": [
              "[(8656102463236116519, 2, 4)]"
            ]
          },
          "metadata": {},
          "execution_count": 100
        }
      ]
    },
    {
      "cell_type": "code",
      "source": [
        "doc2 = nlp(u'Solar---Power is Solar POWER')"
      ],
      "metadata": {
        "id": "1gEBHvfmu8xi"
      },
      "execution_count": 101,
      "outputs": []
    },
    {
      "cell_type": "code",
      "source": [
        "matcher(doc2)"
      ],
      "metadata": {
        "colab": {
          "base_uri": "https://localhost:8080/"
        },
        "id": "W3DX0bJsvaRg",
        "outputId": "8e156538-e881-41dc-eb85-bc90efeab9c6"
      },
      "execution_count": 102,
      "outputs": [
        {
          "output_type": "execute_result",
          "data": {
            "text/plain": [
              "[(8656102463236116519, 0, 3), (8656102463236116519, 4, 6)]"
            ]
          },
          "metadata": {},
          "execution_count": 102
        }
      ]
    },
    {
      "cell_type": "code",
      "source": [
        "p_matcher = spacy.matcher.PhraseMatcher(nlp.vocab)"
      ],
      "metadata": {
        "id": "kQgT-rU6vadY"
      },
      "execution_count": 138,
      "outputs": []
    },
    {
      "cell_type": "code",
      "source": [
        "phrase_list = ['voodoo economics', 'supply-side economics', 'trikle-down economics']"
      ],
      "metadata": {
        "id": "GiIcNY5gvvf-"
      },
      "execution_count": 139,
      "outputs": []
    },
    {
      "cell_type": "code",
      "source": [
        "phrase_patterns = [nlp(phrase) for phrase in phrase_list]"
      ],
      "metadata": {
        "id": "hqbZkpGZwNp4"
      },
      "execution_count": 140,
      "outputs": []
    },
    {
      "cell_type": "code",
      "source": [
        "type(phrase_patterns[0])"
      ],
      "metadata": {
        "colab": {
          "base_uri": "https://localhost:8080/"
        },
        "id": "PqDbyAjSwlPs",
        "outputId": "0d6793a3-3adf-4739-b798-efd73cb620aa"
      },
      "execution_count": 141,
      "outputs": [
        {
          "output_type": "execute_result",
          "data": {
            "text/plain": [
              "spacy.tokens.doc.Doc"
            ]
          },
          "metadata": {},
          "execution_count": 141
        }
      ]
    },
    {
      "cell_type": "code",
      "source": [
        "p_matcher.add('EcobMatcher', None, *phrase_patterns)"
      ],
      "metadata": {
        "id": "-XlR1nVHwpov"
      },
      "execution_count": 142,
      "outputs": []
    },
    {
      "cell_type": "code",
      "source": [
        "temp = nlp('hey voodoo economics, got to supply-side economics, say trikle-down economics')\n",
        "p_matches = p_matcher(temp)"
      ],
      "metadata": {
        "id": "Av_yf2vHwx4E"
      },
      "execution_count": 148,
      "outputs": []
    },
    {
      "cell_type": "code",
      "source": [
        "p_matches"
      ],
      "metadata": {
        "colab": {
          "base_uri": "https://localhost:8080/"
        },
        "id": "LS2_pqrp9yZa",
        "outputId": "ddf5c7a3-e4f6-4b24-b4ed-e1dbdfa0ee1c"
      },
      "execution_count": 149,
      "outputs": [
        {
          "output_type": "execute_result",
          "data": {
            "text/plain": [
              "[(8838797697251217482, 1, 3),\n",
              " (8838797697251217482, 6, 10),\n",
              " (8838797697251217482, 12, 16)]"
            ]
          },
          "metadata": {},
          "execution_count": 149
        }
      ]
    },
    {
      "cell_type": "code",
      "source": [
        "for id, start, end in p_matches:\n",
        "  print(id, nlp.vocab.strings[id], temp[start: end].text)"
      ],
      "metadata": {
        "colab": {
          "base_uri": "https://localhost:8080/"
        },
        "id": "GUO86cvA_gO6",
        "outputId": "12bee9b4-1b4e-48fc-ef95-5fd9bc41adbe"
      },
      "execution_count": 150,
      "outputs": [
        {
          "output_type": "stream",
          "name": "stdout",
          "text": [
            "8838797697251217482 EcobMatcher voodoo economics\n",
            "8838797697251217482 EcobMatcher supply-side economics\n",
            "8838797697251217482 EcobMatcher trikle-down economics\n"
          ]
        }
      ]
    },
    {
      "cell_type": "code",
      "source": [
        ""
      ],
      "metadata": {
        "id": "dZZ_lHmv_j6B"
      },
      "execution_count": null,
      "outputs": []
    }
  ]
}