{
  "nbformat": 4,
  "nbformat_minor": 0,
  "metadata": {
    "colab": {
      "name": "NLP-Some-Libraries-Practice.ipynb",
      "provenance": [],
      "collapsed_sections": [],
      "authorship_tag": "ABX9TyP5J2XJ61YG0rJPjN5WGOP7",
      "include_colab_link": true
    },
    "kernelspec": {
      "name": "python3",
      "display_name": "Python 3"
    },
    "language_info": {
      "name": "python"
    }
  },
  "cells": [
    {
      "cell_type": "markdown",
      "metadata": {
        "id": "view-in-github",
        "colab_type": "text"
      },
      "source": [
        "<a href=\"https://colab.research.google.com/github/mralamdari/NLP-Some-Libraries-Practice/blob/main/NLP_Some_Libraries_Practice.ipynb\" target=\"_parent\"><img src=\"https://colab.research.google.com/assets/colab-badge.svg\" alt=\"Open In Colab\"/></a>"
      ]
    },
    {
      "cell_type": "markdown",
      "source": [
        "#[Spacy](https://spacy.io/api)"
      ],
      "metadata": {
        "id": "MQbzT2xu5gYv"
      }
    },
    {
      "cell_type": "code",
      "execution_count": 1,
      "metadata": {
        "id": "zu1RKch94_UJ"
      },
      "outputs": [],
      "source": [
        "import spacy"
      ]
    },
    {
      "cell_type": "markdown",
      "source": [
        "###Loading a Model"
      ],
      "metadata": {
        "id": "_R4nqII77N3x"
      }
    },
    {
      "cell_type": "code",
      "source": [
        "nlp = spacy.load('en_core_web_sm')"
      ],
      "metadata": {
        "id": "OeM-1uWn5fpZ"
      },
      "execution_count": 2,
      "outputs": []
    },
    {
      "cell_type": "markdown",
      "source": [
        "###Apply the model to a document (doc object)"
      ],
      "metadata": {
        "id": "yBPXnnAP7Ran"
      }
    },
    {
      "cell_type": "code",
      "source": [
        "doc = nlp('The First My spacy code, to learn this awsome library ')"
      ],
      "metadata": {
        "id": "HC9nDly-6A6T"
      },
      "execution_count": 3,
      "outputs": []
    },
    {
      "cell_type": "code",
      "source": [
        "doc"
      ],
      "metadata": {
        "colab": {
          "base_uri": "https://localhost:8080/"
        },
        "id": "o5clkpMs6U_c",
        "outputId": "64671b3b-d267-4e53-db52-5730cc3b2e5b"
      },
      "execution_count": 4,
      "outputs": [
        {
          "output_type": "execute_result",
          "data": {
            "text/plain": [
              "The First My spacy code, to learn this awsome library "
            ]
          },
          "metadata": {},
          "execution_count": 4
        }
      ]
    },
    {
      "cell_type": "code",
      "source": [
        "for token in doc:\n",
        "  print(token)\n",
        "  #print(token.text)"
      ],
      "metadata": {
        "colab": {
          "base_uri": "https://localhost:8080/"
        },
        "id": "ckHVFgmi6VoQ",
        "outputId": "0c65718e-ff9e-471e-f74d-fc9d4da7ef56"
      },
      "execution_count": 5,
      "outputs": [
        {
          "output_type": "stream",
          "name": "stdout",
          "text": [
            "The\n",
            "First\n",
            "My\n",
            "spacy\n",
            "code\n",
            ",\n",
            "to\n",
            "learn\n",
            "this\n",
            "awsome\n",
            "library\n"
          ]
        }
      ]
    },
    {
      "cell_type": "code",
      "source": [
        "# pos ===> Part of Speach\n",
        "for token in doc:\n",
        "  print(token.text, token.pos, token.pos_)"
      ],
      "metadata": {
        "colab": {
          "base_uri": "https://localhost:8080/"
        },
        "id": "cI_B7QIM6YrI",
        "outputId": "639861d1-f475-4d67-bda6-0db3cadeec86"
      },
      "execution_count": 6,
      "outputs": [
        {
          "output_type": "stream",
          "name": "stdout",
          "text": [
            "The 90 DET\n",
            "First 96 PROPN\n",
            "My 90 DET\n",
            "spacy 92 NOUN\n",
            "code 92 NOUN\n",
            ", 97 PUNCT\n",
            "to 94 PART\n",
            "learn 100 VERB\n",
            "this 90 DET\n",
            "awsome 84 ADJ\n",
            "library 92 NOUN\n"
          ]
        }
      ]
    },
    {
      "cell_type": "code",
      "source": [
        "# dep ===> Syntactic dependency\n",
        "for token in doc:\n",
        "  print(token.text, token.dep_)"
      ],
      "metadata": {
        "colab": {
          "base_uri": "https://localhost:8080/"
        },
        "id": "ZILUIB4u6cAk",
        "outputId": "5320c404-7487-4475-85dc-50b293382d65"
      },
      "execution_count": 7,
      "outputs": [
        {
          "output_type": "stream",
          "name": "stdout",
          "text": [
            "The det\n",
            "First amod\n",
            "My poss\n",
            "spacy compound\n",
            "code ROOT\n",
            ", punct\n",
            "to aux\n",
            "learn relcl\n",
            "this det\n",
            "awsome compound\n",
            "library dobj\n"
          ]
        }
      ]
    },
    {
      "cell_type": "code",
      "source": [
        "nlp.pipeline"
      ],
      "metadata": {
        "colab": {
          "base_uri": "https://localhost:8080/"
        },
        "id": "FrNE3QST65vB",
        "outputId": "67341575-ce5e-48d2-bf83-3800b413a15f"
      },
      "execution_count": 8,
      "outputs": [
        {
          "output_type": "execute_result",
          "data": {
            "text/plain": [
              "[('tagger', <spacy.pipeline.pipes.Tagger at 0x7f25d7222650>),\n",
              " ('parser', <spacy.pipeline.pipes.DependencyParser at 0x7f25d6b30fa0>),\n",
              " ('ner', <spacy.pipeline.pipes.EntityRecognizer at 0x7f25d6b30de0>)]"
            ]
          },
          "metadata": {},
          "execution_count": 8
        }
      ]
    },
    {
      "cell_type": "code",
      "source": [
        "nlp.pipe_names"
      ],
      "metadata": {
        "colab": {
          "base_uri": "https://localhost:8080/"
        },
        "id": "jGPP-q1Y7lcy",
        "outputId": "ec7e4036-242f-4afb-e5b6-dea4459e6c3c"
      },
      "execution_count": 9,
      "outputs": [
        {
          "output_type": "execute_result",
          "data": {
            "text/plain": [
              "['tagger', 'parser', 'ner']"
            ]
          },
          "metadata": {},
          "execution_count": 9
        }
      ]
    },
    {
      "cell_type": "code",
      "source": [
        "doc2 = nlp(u\"This is a ?? sentence    to practice. tokenization, It's Awsome\")"
      ],
      "metadata": {
        "id": "Xg5ZDZiy7xnp"
      },
      "execution_count": 10,
      "outputs": []
    },
    {
      "cell_type": "code",
      "source": [
        "for token in doc2:\n",
        "  print(token.text, token.pos_, token.dep_)"
      ],
      "metadata": {
        "colab": {
          "base_uri": "https://localhost:8080/"
        },
        "id": "bm4N8nIw795Q",
        "outputId": "51efe493-784a-4ec0-84a0-7440e342e722"
      },
      "execution_count": 11,
      "outputs": [
        {
          "output_type": "stream",
          "name": "stdout",
          "text": [
            "This DET nsubj\n",
            "is AUX ROOT\n",
            "a DET attr\n",
            "? PUNCT punct\n",
            "? PUNCT punct\n",
            "sentence NOUN npadvmod\n",
            "    SPACE \n",
            "to PART aux\n",
            "practice VERB ROOT\n",
            ". PUNCT punct\n",
            "tokenization NOUN npadvmod\n",
            ", PUNCT punct\n",
            "It PRON nsubj\n",
            "'s AUX ROOT\n",
            "Awsome PROPN attr\n"
          ]
        }
      ]
    },
    {
      "cell_type": "code",
      "source": [
        "for token in doc2:\n",
        "  print(token.text, token.tag_)"
      ],
      "metadata": {
        "colab": {
          "base_uri": "https://localhost:8080/"
        },
        "id": "zHgR9ZRW8e0U",
        "outputId": "3f356bbc-4c2a-4b16-a48f-cc8ccb40fc0f"
      },
      "execution_count": 12,
      "outputs": [
        {
          "output_type": "stream",
          "name": "stdout",
          "text": [
            "This DT\n",
            "is VBZ\n",
            "a DT\n",
            "? .\n",
            "? .\n",
            "sentence NN\n",
            "    _SP\n",
            "to TO\n",
            "practice VB\n",
            ". .\n",
            "tokenization NN\n",
            ", ,\n",
            "It PRP\n",
            "'s VBZ\n",
            "Awsome NNP\n"
          ]
        }
      ]
    },
    {
      "cell_type": "code",
      "source": [
        "for token in doc2:\n",
        "  print(token.text, token.lemma_)"
      ],
      "metadata": {
        "colab": {
          "base_uri": "https://localhost:8080/"
        },
        "id": "12ZIIBZn-70b",
        "outputId": "9d9b7589-e921-4567-e364-a692d27a36a5"
      },
      "execution_count": 13,
      "outputs": [
        {
          "output_type": "stream",
          "name": "stdout",
          "text": [
            "This this\n",
            "is be\n",
            "a a\n",
            "? ?\n",
            "? ?\n",
            "sentence sentence\n",
            "       \n",
            "to to\n",
            "practice practice\n",
            ". .\n",
            "tokenization tokenization\n",
            ", ,\n",
            "It -PRON-\n",
            "'s be\n",
            "Awsome Awsome\n"
          ]
        }
      ]
    },
    {
      "cell_type": "code",
      "source": [
        "for token in doc2:\n",
        "  print(token.text, token.shape_)"
      ],
      "metadata": {
        "colab": {
          "base_uri": "https://localhost:8080/"
        },
        "id": "sATDC0pl_DrX",
        "outputId": "b786ff59-9543-4c0d-fd1f-c8457d7a7905"
      },
      "execution_count": 14,
      "outputs": [
        {
          "output_type": "stream",
          "name": "stdout",
          "text": [
            "This Xxxx\n",
            "is xx\n",
            "a x\n",
            "? ?\n",
            "? ?\n",
            "sentence xxxx\n",
            "       \n",
            "to xx\n",
            "practice xxxx\n",
            ". .\n",
            "tokenization xxxx\n",
            ", ,\n",
            "It Xx\n",
            "'s 'x\n",
            "Awsome Xxxxx\n"
          ]
        }
      ]
    },
    {
      "cell_type": "code",
      "source": [
        "for token in doc2:\n",
        "  print(type(token))"
      ],
      "metadata": {
        "colab": {
          "base_uri": "https://localhost:8080/"
        },
        "id": "qYqCfu-h_Rrm",
        "outputId": "2dfa8b8a-f71a-49ba-e67b-b28f8ee40b0d"
      },
      "execution_count": 15,
      "outputs": [
        {
          "output_type": "stream",
          "name": "stdout",
          "text": [
            "<class 'spacy.tokens.token.Token'>\n",
            "<class 'spacy.tokens.token.Token'>\n",
            "<class 'spacy.tokens.token.Token'>\n",
            "<class 'spacy.tokens.token.Token'>\n",
            "<class 'spacy.tokens.token.Token'>\n",
            "<class 'spacy.tokens.token.Token'>\n",
            "<class 'spacy.tokens.token.Token'>\n",
            "<class 'spacy.tokens.token.Token'>\n",
            "<class 'spacy.tokens.token.Token'>\n",
            "<class 'spacy.tokens.token.Token'>\n",
            "<class 'spacy.tokens.token.Token'>\n",
            "<class 'spacy.tokens.token.Token'>\n",
            "<class 'spacy.tokens.token.Token'>\n",
            "<class 'spacy.tokens.token.Token'>\n",
            "<class 'spacy.tokens.token.Token'>\n"
          ]
        }
      ]
    },
    {
      "cell_type": "markdown",
      "source": [
        "###Tokenization\n",
        "\n",
        "#####**Prefix**: chars at the beginning\n",
        "#####**Suffix**: chars at the end\n",
        "#####**Infix**: chars in between\n",
        "#####Exception\n"
      ],
      "metadata": {
        "id": "k2bmkuFQCJp3"
      }
    },
    {
      "cell_type": "code",
      "source": [
        "my_str=\"'We\\'re moving to L.A.!, are you coming?\""
      ],
      "metadata": {
        "id": "SN76Z52a_yVF"
      },
      "execution_count": 16,
      "outputs": []
    },
    {
      "cell_type": "code",
      "source": [
        "doc = nlp(my_str)"
      ],
      "metadata": {
        "id": "OVfPyaz4Dx_b"
      },
      "execution_count": 17,
      "outputs": []
    },
    {
      "cell_type": "code",
      "source": [
        "for token in doc:\n",
        "  print(token.text)"
      ],
      "metadata": {
        "colab": {
          "base_uri": "https://localhost:8080/"
        },
        "id": "7KyuV4Y3Dz5V",
        "outputId": "15d48c04-f382-4db3-afb1-22904a4a42eb"
      },
      "execution_count": 18,
      "outputs": [
        {
          "output_type": "stream",
          "name": "stdout",
          "text": [
            "'\n",
            "We\n",
            "'re\n",
            "moving\n",
            "to\n",
            "L.A.\n",
            "!\n",
            ",\n",
            "are\n",
            "you\n",
            "coming\n",
            "?\n"
          ]
        }
      ]
    },
    {
      "cell_type": "code",
      "source": [
        "doc2 = nlp(u'Apple helped me create this http://popo@gmail.com gmail!, In L.A. with my freind in Japan so, I can only give you $153.61')"
      ],
      "metadata": {
        "id": "gv4h4sx6EKBq"
      },
      "execution_count": 19,
      "outputs": []
    },
    {
      "cell_type": "code",
      "source": [
        "for token in doc2:\n",
        "  print(token.text)"
      ],
      "metadata": {
        "colab": {
          "base_uri": "https://localhost:8080/"
        },
        "id": "Y0F6_LcAEdm0",
        "outputId": "d980aa13-00c3-4b5e-e4d7-fdf2b52a7f89"
      },
      "execution_count": 20,
      "outputs": [
        {
          "output_type": "stream",
          "name": "stdout",
          "text": [
            "Apple\n",
            "helped\n",
            "me\n",
            "create\n",
            "this\n",
            "http://popo@gmail.com\n",
            "gmail\n",
            "!\n",
            ",\n",
            "In\n",
            "L.A.\n",
            "with\n",
            "my\n",
            "freind\n",
            "in\n",
            "Japan\n",
            "so\n",
            ",\n",
            "I\n",
            "can\n",
            "only\n",
            "give\n",
            "you\n",
            "$\n",
            "153.61\n"
          ]
        }
      ]
    },
    {
      "cell_type": "code",
      "source": [
        "for entity in doc2.ents:\n",
        "  print(entity, entity.label_)\n",
        "  print(str(spacy.explain(entity.label_)))\n",
        "  print('\\n')"
      ],
      "metadata": {
        "colab": {
          "base_uri": "https://localhost:8080/"
        },
        "id": "Wgk0eRYREfaU",
        "outputId": "5fa3ad6a-4e87-4908-84a9-805c83bafebd"
      },
      "execution_count": 21,
      "outputs": [
        {
          "output_type": "stream",
          "name": "stdout",
          "text": [
            "Apple ORG\n",
            "Companies, agencies, institutions, etc.\n",
            "\n",
            "\n",
            "L.A. GPE\n",
            "Countries, cities, states\n",
            "\n",
            "\n",
            "Japan GPE\n",
            "Countries, cities, states\n",
            "\n",
            "\n",
            "153.61 MONEY\n",
            "Monetary values, including unit\n",
            "\n",
            "\n"
          ]
        }
      ]
    },
    {
      "cell_type": "code",
      "source": [
        "doc3 = nlp(u'a beautiful butterfly can go beyonds eyes so esi, be carefull. yesterday IBM bought an apple for $5.5 millions')"
      ],
      "metadata": {
        "id": "EoKVXUhbF7RV"
      },
      "execution_count": 22,
      "outputs": []
    },
    {
      "cell_type": "code",
      "source": [
        "for chunk in doc3.noun_chunks:\n",
        "  print(chunk)"
      ],
      "metadata": {
        "colab": {
          "base_uri": "https://localhost:8080/"
        },
        "id": "3CdQDIvuGy69",
        "outputId": "586a7e89-3207-44a7-d6c6-a8da3f2bdda0"
      },
      "execution_count": 23,
      "outputs": [
        {
          "output_type": "stream",
          "name": "stdout",
          "text": [
            "a beautiful butterfly\n",
            "beyonds eyes\n",
            "IBM\n",
            "an apple\n",
            "$5.5 millions\n"
          ]
        }
      ]
    },
    {
      "cell_type": "code",
      "source": [
        "spacy.displacy.render(doc3, style='dep', jupyter=True, options={'distance':110})\n",
        "# spacy.displacy.serve(doc3, style='dep', jupyter=False, options={'distance':110})"
      ],
      "metadata": {
        "colab": {
          "base_uri": "https://localhost:8080/",
          "height": 344
        },
        "id": "udIr7RXAG4Rc",
        "outputId": "1f6e8f7f-332f-4056-e4e1-03d6796c87a2"
      },
      "execution_count": 24,
      "outputs": [
        {
          "output_type": "display_data",
          "data": {
            "text/plain": [
              "<IPython.core.display.HTML object>"
            ],
            "text/html": [
              "<span class=\"tex2jax_ignore\"><svg xmlns=\"http://www.w3.org/2000/svg\" xmlns:xlink=\"http://www.w3.org/1999/xlink\" xml:lang=\"en\" id=\"ef31dd1200624c1fb9ac1d9127b1db15-0\" class=\"displacy\" width=\"2250\" height=\"302.0\" direction=\"ltr\" style=\"max-width: none; height: 302.0px; color: #000000; background: #ffffff; font-family: Arial; direction: ltr\">\n",
              "<text class=\"displacy-token\" fill=\"currentColor\" text-anchor=\"middle\" y=\"212.0\">\n",
              "    <tspan class=\"displacy-word\" fill=\"currentColor\" x=\"50\">a</tspan>\n",
              "    <tspan class=\"displacy-tag\" dy=\"2em\" fill=\"currentColor\" x=\"50\">DET</tspan>\n",
              "</text>\n",
              "\n",
              "<text class=\"displacy-token\" fill=\"currentColor\" text-anchor=\"middle\" y=\"212.0\">\n",
              "    <tspan class=\"displacy-word\" fill=\"currentColor\" x=\"160\">beautiful</tspan>\n",
              "    <tspan class=\"displacy-tag\" dy=\"2em\" fill=\"currentColor\" x=\"160\">ADJ</tspan>\n",
              "</text>\n",
              "\n",
              "<text class=\"displacy-token\" fill=\"currentColor\" text-anchor=\"middle\" y=\"212.0\">\n",
              "    <tspan class=\"displacy-word\" fill=\"currentColor\" x=\"270\">butterfly</tspan>\n",
              "    <tspan class=\"displacy-tag\" dy=\"2em\" fill=\"currentColor\" x=\"270\">NOUN</tspan>\n",
              "</text>\n",
              "\n",
              "<text class=\"displacy-token\" fill=\"currentColor\" text-anchor=\"middle\" y=\"212.0\">\n",
              "    <tspan class=\"displacy-word\" fill=\"currentColor\" x=\"380\">can</tspan>\n",
              "    <tspan class=\"displacy-tag\" dy=\"2em\" fill=\"currentColor\" x=\"380\">VERB</tspan>\n",
              "</text>\n",
              "\n",
              "<text class=\"displacy-token\" fill=\"currentColor\" text-anchor=\"middle\" y=\"212.0\">\n",
              "    <tspan class=\"displacy-word\" fill=\"currentColor\" x=\"490\">go</tspan>\n",
              "    <tspan class=\"displacy-tag\" dy=\"2em\" fill=\"currentColor\" x=\"490\">VERB</tspan>\n",
              "</text>\n",
              "\n",
              "<text class=\"displacy-token\" fill=\"currentColor\" text-anchor=\"middle\" y=\"212.0\">\n",
              "    <tspan class=\"displacy-word\" fill=\"currentColor\" x=\"600\">beyonds</tspan>\n",
              "    <tspan class=\"displacy-tag\" dy=\"2em\" fill=\"currentColor\" x=\"600\">NOUN</tspan>\n",
              "</text>\n",
              "\n",
              "<text class=\"displacy-token\" fill=\"currentColor\" text-anchor=\"middle\" y=\"212.0\">\n",
              "    <tspan class=\"displacy-word\" fill=\"currentColor\" x=\"710\">eyes</tspan>\n",
              "    <tspan class=\"displacy-tag\" dy=\"2em\" fill=\"currentColor\" x=\"710\">NOUN</tspan>\n",
              "</text>\n",
              "\n",
              "<text class=\"displacy-token\" fill=\"currentColor\" text-anchor=\"middle\" y=\"212.0\">\n",
              "    <tspan class=\"displacy-word\" fill=\"currentColor\" x=\"820\">so</tspan>\n",
              "    <tspan class=\"displacy-tag\" dy=\"2em\" fill=\"currentColor\" x=\"820\">ADV</tspan>\n",
              "</text>\n",
              "\n",
              "<text class=\"displacy-token\" fill=\"currentColor\" text-anchor=\"middle\" y=\"212.0\">\n",
              "    <tspan class=\"displacy-word\" fill=\"currentColor\" x=\"930\">esi,</tspan>\n",
              "    <tspan class=\"displacy-tag\" dy=\"2em\" fill=\"currentColor\" x=\"930\">ADJ</tspan>\n",
              "</text>\n",
              "\n",
              "<text class=\"displacy-token\" fill=\"currentColor\" text-anchor=\"middle\" y=\"212.0\">\n",
              "    <tspan class=\"displacy-word\" fill=\"currentColor\" x=\"1040\">be</tspan>\n",
              "    <tspan class=\"displacy-tag\" dy=\"2em\" fill=\"currentColor\" x=\"1040\">AUX</tspan>\n",
              "</text>\n",
              "\n",
              "<text class=\"displacy-token\" fill=\"currentColor\" text-anchor=\"middle\" y=\"212.0\">\n",
              "    <tspan class=\"displacy-word\" fill=\"currentColor\" x=\"1150\">carefull.</tspan>\n",
              "    <tspan class=\"displacy-tag\" dy=\"2em\" fill=\"currentColor\" x=\"1150\">ADJ</tspan>\n",
              "</text>\n",
              "\n",
              "<text class=\"displacy-token\" fill=\"currentColor\" text-anchor=\"middle\" y=\"212.0\">\n",
              "    <tspan class=\"displacy-word\" fill=\"currentColor\" x=\"1260\">yesterday</tspan>\n",
              "    <tspan class=\"displacy-tag\" dy=\"2em\" fill=\"currentColor\" x=\"1260\">NOUN</tspan>\n",
              "</text>\n",
              "\n",
              "<text class=\"displacy-token\" fill=\"currentColor\" text-anchor=\"middle\" y=\"212.0\">\n",
              "    <tspan class=\"displacy-word\" fill=\"currentColor\" x=\"1370\">IBM</tspan>\n",
              "    <tspan class=\"displacy-tag\" dy=\"2em\" fill=\"currentColor\" x=\"1370\">PROPN</tspan>\n",
              "</text>\n",
              "\n",
              "<text class=\"displacy-token\" fill=\"currentColor\" text-anchor=\"middle\" y=\"212.0\">\n",
              "    <tspan class=\"displacy-word\" fill=\"currentColor\" x=\"1480\">bought</tspan>\n",
              "    <tspan class=\"displacy-tag\" dy=\"2em\" fill=\"currentColor\" x=\"1480\">VERB</tspan>\n",
              "</text>\n",
              "\n",
              "<text class=\"displacy-token\" fill=\"currentColor\" text-anchor=\"middle\" y=\"212.0\">\n",
              "    <tspan class=\"displacy-word\" fill=\"currentColor\" x=\"1590\">an</tspan>\n",
              "    <tspan class=\"displacy-tag\" dy=\"2em\" fill=\"currentColor\" x=\"1590\">DET</tspan>\n",
              "</text>\n",
              "\n",
              "<text class=\"displacy-token\" fill=\"currentColor\" text-anchor=\"middle\" y=\"212.0\">\n",
              "    <tspan class=\"displacy-word\" fill=\"currentColor\" x=\"1700\">apple</tspan>\n",
              "    <tspan class=\"displacy-tag\" dy=\"2em\" fill=\"currentColor\" x=\"1700\">NOUN</tspan>\n",
              "</text>\n",
              "\n",
              "<text class=\"displacy-token\" fill=\"currentColor\" text-anchor=\"middle\" y=\"212.0\">\n",
              "    <tspan class=\"displacy-word\" fill=\"currentColor\" x=\"1810\">for</tspan>\n",
              "    <tspan class=\"displacy-tag\" dy=\"2em\" fill=\"currentColor\" x=\"1810\">ADP</tspan>\n",
              "</text>\n",
              "\n",
              "<text class=\"displacy-token\" fill=\"currentColor\" text-anchor=\"middle\" y=\"212.0\">\n",
              "    <tspan class=\"displacy-word\" fill=\"currentColor\" x=\"1920\">$</tspan>\n",
              "    <tspan class=\"displacy-tag\" dy=\"2em\" fill=\"currentColor\" x=\"1920\">SYM</tspan>\n",
              "</text>\n",
              "\n",
              "<text class=\"displacy-token\" fill=\"currentColor\" text-anchor=\"middle\" y=\"212.0\">\n",
              "    <tspan class=\"displacy-word\" fill=\"currentColor\" x=\"2030\">5.5</tspan>\n",
              "    <tspan class=\"displacy-tag\" dy=\"2em\" fill=\"currentColor\" x=\"2030\">NUM</tspan>\n",
              "</text>\n",
              "\n",
              "<text class=\"displacy-token\" fill=\"currentColor\" text-anchor=\"middle\" y=\"212.0\">\n",
              "    <tspan class=\"displacy-word\" fill=\"currentColor\" x=\"2140\">millions</tspan>\n",
              "    <tspan class=\"displacy-tag\" dy=\"2em\" fill=\"currentColor\" x=\"2140\">NOUN</tspan>\n",
              "</text>\n",
              "\n",
              "<g class=\"displacy-arrow\">\n",
              "    <path class=\"displacy-arc\" id=\"arrow-ef31dd1200624c1fb9ac1d9127b1db15-0-0\" stroke-width=\"2px\" d=\"M70,167.0 C70,57.0 265.0,57.0 265.0,167.0\" fill=\"none\" stroke=\"currentColor\"/>\n",
              "    <text dy=\"1.25em\" style=\"font-size: 0.8em; letter-spacing: 1px\">\n",
              "        <textPath xlink:href=\"#arrow-ef31dd1200624c1fb9ac1d9127b1db15-0-0\" class=\"displacy-label\" startOffset=\"50%\" side=\"left\" fill=\"currentColor\" text-anchor=\"middle\">det</textPath>\n",
              "    </text>\n",
              "    <path class=\"displacy-arrowhead\" d=\"M70,169.0 L62,157.0 78,157.0\" fill=\"currentColor\"/>\n",
              "</g>\n",
              "\n",
              "<g class=\"displacy-arrow\">\n",
              "    <path class=\"displacy-arc\" id=\"arrow-ef31dd1200624c1fb9ac1d9127b1db15-0-1\" stroke-width=\"2px\" d=\"M180,167.0 C180,112.0 260.0,112.0 260.0,167.0\" fill=\"none\" stroke=\"currentColor\"/>\n",
              "    <text dy=\"1.25em\" style=\"font-size: 0.8em; letter-spacing: 1px\">\n",
              "        <textPath xlink:href=\"#arrow-ef31dd1200624c1fb9ac1d9127b1db15-0-1\" class=\"displacy-label\" startOffset=\"50%\" side=\"left\" fill=\"currentColor\" text-anchor=\"middle\">amod</textPath>\n",
              "    </text>\n",
              "    <path class=\"displacy-arrowhead\" d=\"M180,169.0 L172,157.0 188,157.0\" fill=\"currentColor\"/>\n",
              "</g>\n",
              "\n",
              "<g class=\"displacy-arrow\">\n",
              "    <path class=\"displacy-arc\" id=\"arrow-ef31dd1200624c1fb9ac1d9127b1db15-0-2\" stroke-width=\"2px\" d=\"M290,167.0 C290,57.0 485.0,57.0 485.0,167.0\" fill=\"none\" stroke=\"currentColor\"/>\n",
              "    <text dy=\"1.25em\" style=\"font-size: 0.8em; letter-spacing: 1px\">\n",
              "        <textPath xlink:href=\"#arrow-ef31dd1200624c1fb9ac1d9127b1db15-0-2\" class=\"displacy-label\" startOffset=\"50%\" side=\"left\" fill=\"currentColor\" text-anchor=\"middle\">nsubj</textPath>\n",
              "    </text>\n",
              "    <path class=\"displacy-arrowhead\" d=\"M290,169.0 L282,157.0 298,157.0\" fill=\"currentColor\"/>\n",
              "</g>\n",
              "\n",
              "<g class=\"displacy-arrow\">\n",
              "    <path class=\"displacy-arc\" id=\"arrow-ef31dd1200624c1fb9ac1d9127b1db15-0-3\" stroke-width=\"2px\" d=\"M400,167.0 C400,112.0 480.0,112.0 480.0,167.0\" fill=\"none\" stroke=\"currentColor\"/>\n",
              "    <text dy=\"1.25em\" style=\"font-size: 0.8em; letter-spacing: 1px\">\n",
              "        <textPath xlink:href=\"#arrow-ef31dd1200624c1fb9ac1d9127b1db15-0-3\" class=\"displacy-label\" startOffset=\"50%\" side=\"left\" fill=\"currentColor\" text-anchor=\"middle\">aux</textPath>\n",
              "    </text>\n",
              "    <path class=\"displacy-arrowhead\" d=\"M400,169.0 L392,157.0 408,157.0\" fill=\"currentColor\"/>\n",
              "</g>\n",
              "\n",
              "<g class=\"displacy-arrow\">\n",
              "    <path class=\"displacy-arc\" id=\"arrow-ef31dd1200624c1fb9ac1d9127b1db15-0-4\" stroke-width=\"2px\" d=\"M620,167.0 C620,112.0 700.0,112.0 700.0,167.0\" fill=\"none\" stroke=\"currentColor\"/>\n",
              "    <text dy=\"1.25em\" style=\"font-size: 0.8em; letter-spacing: 1px\">\n",
              "        <textPath xlink:href=\"#arrow-ef31dd1200624c1fb9ac1d9127b1db15-0-4\" class=\"displacy-label\" startOffset=\"50%\" side=\"left\" fill=\"currentColor\" text-anchor=\"middle\">compound</textPath>\n",
              "    </text>\n",
              "    <path class=\"displacy-arrowhead\" d=\"M620,169.0 L612,157.0 628,157.0\" fill=\"currentColor\"/>\n",
              "</g>\n",
              "\n",
              "<g class=\"displacy-arrow\">\n",
              "    <path class=\"displacy-arc\" id=\"arrow-ef31dd1200624c1fb9ac1d9127b1db15-0-5\" stroke-width=\"2px\" d=\"M510,167.0 C510,57.0 705.0,57.0 705.0,167.0\" fill=\"none\" stroke=\"currentColor\"/>\n",
              "    <text dy=\"1.25em\" style=\"font-size: 0.8em; letter-spacing: 1px\">\n",
              "        <textPath xlink:href=\"#arrow-ef31dd1200624c1fb9ac1d9127b1db15-0-5\" class=\"displacy-label\" startOffset=\"50%\" side=\"left\" fill=\"currentColor\" text-anchor=\"middle\">dobj</textPath>\n",
              "    </text>\n",
              "    <path class=\"displacy-arrowhead\" d=\"M705.0,169.0 L713.0,157.0 697.0,157.0\" fill=\"currentColor\"/>\n",
              "</g>\n",
              "\n",
              "<g class=\"displacy-arrow\">\n",
              "    <path class=\"displacy-arc\" id=\"arrow-ef31dd1200624c1fb9ac1d9127b1db15-0-6\" stroke-width=\"2px\" d=\"M840,167.0 C840,112.0 920.0,112.0 920.0,167.0\" fill=\"none\" stroke=\"currentColor\"/>\n",
              "    <text dy=\"1.25em\" style=\"font-size: 0.8em; letter-spacing: 1px\">\n",
              "        <textPath xlink:href=\"#arrow-ef31dd1200624c1fb9ac1d9127b1db15-0-6\" class=\"displacy-label\" startOffset=\"50%\" side=\"left\" fill=\"currentColor\" text-anchor=\"middle\">advmod</textPath>\n",
              "    </text>\n",
              "    <path class=\"displacy-arrowhead\" d=\"M840,169.0 L832,157.0 848,157.0\" fill=\"currentColor\"/>\n",
              "</g>\n",
              "\n",
              "<g class=\"displacy-arrow\">\n",
              "    <path class=\"displacy-arc\" id=\"arrow-ef31dd1200624c1fb9ac1d9127b1db15-0-7\" stroke-width=\"2px\" d=\"M950,167.0 C950,112.0 1030.0,112.0 1030.0,167.0\" fill=\"none\" stroke=\"currentColor\"/>\n",
              "    <text dy=\"1.25em\" style=\"font-size: 0.8em; letter-spacing: 1px\">\n",
              "        <textPath xlink:href=\"#arrow-ef31dd1200624c1fb9ac1d9127b1db15-0-7\" class=\"displacy-label\" startOffset=\"50%\" side=\"left\" fill=\"currentColor\" text-anchor=\"middle\">nsubj</textPath>\n",
              "    </text>\n",
              "    <path class=\"displacy-arrowhead\" d=\"M950,169.0 L942,157.0 958,157.0\" fill=\"currentColor\"/>\n",
              "</g>\n",
              "\n",
              "<g class=\"displacy-arrow\">\n",
              "    <path class=\"displacy-arc\" id=\"arrow-ef31dd1200624c1fb9ac1d9127b1db15-0-8\" stroke-width=\"2px\" d=\"M1060,167.0 C1060,112.0 1140.0,112.0 1140.0,167.0\" fill=\"none\" stroke=\"currentColor\"/>\n",
              "    <text dy=\"1.25em\" style=\"font-size: 0.8em; letter-spacing: 1px\">\n",
              "        <textPath xlink:href=\"#arrow-ef31dd1200624c1fb9ac1d9127b1db15-0-8\" class=\"displacy-label\" startOffset=\"50%\" side=\"left\" fill=\"currentColor\" text-anchor=\"middle\">acomp</textPath>\n",
              "    </text>\n",
              "    <path class=\"displacy-arrowhead\" d=\"M1140.0,169.0 L1148.0,157.0 1132.0,157.0\" fill=\"currentColor\"/>\n",
              "</g>\n",
              "\n",
              "<g class=\"displacy-arrow\">\n",
              "    <path class=\"displacy-arc\" id=\"arrow-ef31dd1200624c1fb9ac1d9127b1db15-0-9\" stroke-width=\"2px\" d=\"M1280,167.0 C1280,57.0 1475.0,57.0 1475.0,167.0\" fill=\"none\" stroke=\"currentColor\"/>\n",
              "    <text dy=\"1.25em\" style=\"font-size: 0.8em; letter-spacing: 1px\">\n",
              "        <textPath xlink:href=\"#arrow-ef31dd1200624c1fb9ac1d9127b1db15-0-9\" class=\"displacy-label\" startOffset=\"50%\" side=\"left\" fill=\"currentColor\" text-anchor=\"middle\">npadvmod</textPath>\n",
              "    </text>\n",
              "    <path class=\"displacy-arrowhead\" d=\"M1280,169.0 L1272,157.0 1288,157.0\" fill=\"currentColor\"/>\n",
              "</g>\n",
              "\n",
              "<g class=\"displacy-arrow\">\n",
              "    <path class=\"displacy-arc\" id=\"arrow-ef31dd1200624c1fb9ac1d9127b1db15-0-10\" stroke-width=\"2px\" d=\"M1390,167.0 C1390,112.0 1470.0,112.0 1470.0,167.0\" fill=\"none\" stroke=\"currentColor\"/>\n",
              "    <text dy=\"1.25em\" style=\"font-size: 0.8em; letter-spacing: 1px\">\n",
              "        <textPath xlink:href=\"#arrow-ef31dd1200624c1fb9ac1d9127b1db15-0-10\" class=\"displacy-label\" startOffset=\"50%\" side=\"left\" fill=\"currentColor\" text-anchor=\"middle\">nsubj</textPath>\n",
              "    </text>\n",
              "    <path class=\"displacy-arrowhead\" d=\"M1390,169.0 L1382,157.0 1398,157.0\" fill=\"currentColor\"/>\n",
              "</g>\n",
              "\n",
              "<g class=\"displacy-arrow\">\n",
              "    <path class=\"displacy-arc\" id=\"arrow-ef31dd1200624c1fb9ac1d9127b1db15-0-11\" stroke-width=\"2px\" d=\"M1610,167.0 C1610,112.0 1690.0,112.0 1690.0,167.0\" fill=\"none\" stroke=\"currentColor\"/>\n",
              "    <text dy=\"1.25em\" style=\"font-size: 0.8em; letter-spacing: 1px\">\n",
              "        <textPath xlink:href=\"#arrow-ef31dd1200624c1fb9ac1d9127b1db15-0-11\" class=\"displacy-label\" startOffset=\"50%\" side=\"left\" fill=\"currentColor\" text-anchor=\"middle\">det</textPath>\n",
              "    </text>\n",
              "    <path class=\"displacy-arrowhead\" d=\"M1610,169.0 L1602,157.0 1618,157.0\" fill=\"currentColor\"/>\n",
              "</g>\n",
              "\n",
              "<g class=\"displacy-arrow\">\n",
              "    <path class=\"displacy-arc\" id=\"arrow-ef31dd1200624c1fb9ac1d9127b1db15-0-12\" stroke-width=\"2px\" d=\"M1500,167.0 C1500,57.0 1695.0,57.0 1695.0,167.0\" fill=\"none\" stroke=\"currentColor\"/>\n",
              "    <text dy=\"1.25em\" style=\"font-size: 0.8em; letter-spacing: 1px\">\n",
              "        <textPath xlink:href=\"#arrow-ef31dd1200624c1fb9ac1d9127b1db15-0-12\" class=\"displacy-label\" startOffset=\"50%\" side=\"left\" fill=\"currentColor\" text-anchor=\"middle\">dobj</textPath>\n",
              "    </text>\n",
              "    <path class=\"displacy-arrowhead\" d=\"M1695.0,169.0 L1703.0,157.0 1687.0,157.0\" fill=\"currentColor\"/>\n",
              "</g>\n",
              "\n",
              "<g class=\"displacy-arrow\">\n",
              "    <path class=\"displacy-arc\" id=\"arrow-ef31dd1200624c1fb9ac1d9127b1db15-0-13\" stroke-width=\"2px\" d=\"M1500,167.0 C1500,2.0 1810.0,2.0 1810.0,167.0\" fill=\"none\" stroke=\"currentColor\"/>\n",
              "    <text dy=\"1.25em\" style=\"font-size: 0.8em; letter-spacing: 1px\">\n",
              "        <textPath xlink:href=\"#arrow-ef31dd1200624c1fb9ac1d9127b1db15-0-13\" class=\"displacy-label\" startOffset=\"50%\" side=\"left\" fill=\"currentColor\" text-anchor=\"middle\">prep</textPath>\n",
              "    </text>\n",
              "    <path class=\"displacy-arrowhead\" d=\"M1810.0,169.0 L1818.0,157.0 1802.0,157.0\" fill=\"currentColor\"/>\n",
              "</g>\n",
              "\n",
              "<g class=\"displacy-arrow\">\n",
              "    <path class=\"displacy-arc\" id=\"arrow-ef31dd1200624c1fb9ac1d9127b1db15-0-14\" stroke-width=\"2px\" d=\"M1940,167.0 C1940,57.0 2135.0,57.0 2135.0,167.0\" fill=\"none\" stroke=\"currentColor\"/>\n",
              "    <text dy=\"1.25em\" style=\"font-size: 0.8em; letter-spacing: 1px\">\n",
              "        <textPath xlink:href=\"#arrow-ef31dd1200624c1fb9ac1d9127b1db15-0-14\" class=\"displacy-label\" startOffset=\"50%\" side=\"left\" fill=\"currentColor\" text-anchor=\"middle\">quantmod</textPath>\n",
              "    </text>\n",
              "    <path class=\"displacy-arrowhead\" d=\"M1940,169.0 L1932,157.0 1948,157.0\" fill=\"currentColor\"/>\n",
              "</g>\n",
              "\n",
              "<g class=\"displacy-arrow\">\n",
              "    <path class=\"displacy-arc\" id=\"arrow-ef31dd1200624c1fb9ac1d9127b1db15-0-15\" stroke-width=\"2px\" d=\"M2050,167.0 C2050,112.0 2130.0,112.0 2130.0,167.0\" fill=\"none\" stroke=\"currentColor\"/>\n",
              "    <text dy=\"1.25em\" style=\"font-size: 0.8em; letter-spacing: 1px\">\n",
              "        <textPath xlink:href=\"#arrow-ef31dd1200624c1fb9ac1d9127b1db15-0-15\" class=\"displacy-label\" startOffset=\"50%\" side=\"left\" fill=\"currentColor\" text-anchor=\"middle\">nummod</textPath>\n",
              "    </text>\n",
              "    <path class=\"displacy-arrowhead\" d=\"M2050,169.0 L2042,157.0 2058,157.0\" fill=\"currentColor\"/>\n",
              "</g>\n",
              "\n",
              "<g class=\"displacy-arrow\">\n",
              "    <path class=\"displacy-arc\" id=\"arrow-ef31dd1200624c1fb9ac1d9127b1db15-0-16\" stroke-width=\"2px\" d=\"M1830,167.0 C1830,2.0 2140.0,2.0 2140.0,167.0\" fill=\"none\" stroke=\"currentColor\"/>\n",
              "    <text dy=\"1.25em\" style=\"font-size: 0.8em; letter-spacing: 1px\">\n",
              "        <textPath xlink:href=\"#arrow-ef31dd1200624c1fb9ac1d9127b1db15-0-16\" class=\"displacy-label\" startOffset=\"50%\" side=\"left\" fill=\"currentColor\" text-anchor=\"middle\">pobj</textPath>\n",
              "    </text>\n",
              "    <path class=\"displacy-arrowhead\" d=\"M2140.0,169.0 L2148.0,157.0 2132.0,157.0\" fill=\"currentColor\"/>\n",
              "</g>\n",
              "</svg></span>"
            ]
          },
          "metadata": {}
        }
      ]
    },
    {
      "cell_type": "code",
      "source": [
        "spacy.displacy.render(doc3, style='ent', jupyter=True)\n",
        "# spacy.displacy.serve(doc3, style='ent', jupyter=False)"
      ],
      "metadata": {
        "colab": {
          "base_uri": "https://localhost:8080/",
          "height": 52
        },
        "id": "dlmmag5jNrBL",
        "outputId": "fa9d2762-b4d9-444b-95e6-ef904f6312b6"
      },
      "execution_count": 25,
      "outputs": [
        {
          "output_type": "display_data",
          "data": {
            "text/plain": [
              "<IPython.core.display.HTML object>"
            ],
            "text/html": [
              "<span class=\"tex2jax_ignore\"><div class=\"entities\" style=\"line-height: 2.5; direction: ltr\">a beautiful butterfly can go beyonds eyes so esi, be carefull. \n",
              "<mark class=\"entity\" style=\"background: #bfe1d9; padding: 0.45em 0.6em; margin: 0 0.25em; line-height: 1; border-radius: 0.35em;\">\n",
              "    yesterday\n",
              "    <span style=\"font-size: 0.8em; font-weight: bold; line-height: 1; border-radius: 0.35em; text-transform: uppercase; vertical-align: middle; margin-left: 0.5rem\">DATE</span>\n",
              "</mark>\n",
              " \n",
              "<mark class=\"entity\" style=\"background: #7aecec; padding: 0.45em 0.6em; margin: 0 0.25em; line-height: 1; border-radius: 0.35em;\">\n",
              "    IBM\n",
              "    <span style=\"font-size: 0.8em; font-weight: bold; line-height: 1; border-radius: 0.35em; text-transform: uppercase; vertical-align: middle; margin-left: 0.5rem\">ORG</span>\n",
              "</mark>\n",
              " bought an apple for \n",
              "<mark class=\"entity\" style=\"background: #e4e7d2; padding: 0.45em 0.6em; margin: 0 0.25em; line-height: 1; border-radius: 0.35em;\">\n",
              "    $5.5 millions\n",
              "    <span style=\"font-size: 0.8em; font-weight: bold; line-height: 1; border-radius: 0.35em; text-transform: uppercase; vertical-align: middle; margin-left: 0.5rem\">MONEY</span>\n",
              "</mark>\n",
              "</div></span>"
            ]
          },
          "metadata": {}
        }
      ]
    },
    {
      "cell_type": "markdown",
      "source": [
        "###Stemming\n",
        "\n",
        "######a crude method for categoling related words"
      ],
      "metadata": {
        "id": "L9Zznl-4P8jn"
      }
    },
    {
      "cell_type": "code",
      "source": [
        "import nltk\n",
        "from nltk.stem.porter import PorterStemmer"
      ],
      "metadata": {
        "id": "AQWr2027OPfs"
      },
      "execution_count": 26,
      "outputs": []
    },
    {
      "cell_type": "code",
      "source": [
        "p_stemmer = PorterStemmer()"
      ],
      "metadata": {
        "id": "cqNMlOsiQzgY"
      },
      "execution_count": 27,
      "outputs": []
    },
    {
      "cell_type": "code",
      "source": [
        "words = ['runner', 'run', 'ran', 'runs', 'easy', 'easier', 'easiest']"
      ],
      "metadata": {
        "id": "82ouCyHHQ11f"
      },
      "execution_count": 28,
      "outputs": []
    },
    {
      "cell_type": "code",
      "source": [
        "for word in words:\n",
        "  print(f'{word} ----> {p_stemmer.stem(word)}')"
      ],
      "metadata": {
        "colab": {
          "base_uri": "https://localhost:8080/"
        },
        "id": "nKesZcojQ53f",
        "outputId": "66551feb-4672-4097-8c53-4b2c56a51fde"
      },
      "execution_count": 29,
      "outputs": [
        {
          "output_type": "stream",
          "name": "stdout",
          "text": [
            "runner ----> runner\n",
            "run ----> run\n",
            "ran ----> ran\n",
            "runs ----> run\n",
            "easy ----> easi\n",
            "easier ----> easier\n",
            "easiest ----> easiest\n"
          ]
        }
      ]
    },
    {
      "cell_type": "code",
      "source": [
        "from nltk.stem.snowball import SnowballStemmer"
      ],
      "metadata": {
        "id": "49m3hfYZRAqT"
      },
      "execution_count": 30,
      "outputs": []
    },
    {
      "cell_type": "code",
      "source": [
        "s_stemmer = SnowballStemmer(language='english')"
      ],
      "metadata": {
        "id": "gH4wGoTYRbkS"
      },
      "execution_count": 31,
      "outputs": []
    },
    {
      "cell_type": "code",
      "source": [
        "for word in words:\n",
        "  print(f'{word} ----> {s_stemmer.stem(word)}')"
      ],
      "metadata": {
        "colab": {
          "base_uri": "https://localhost:8080/"
        },
        "id": "CJCWOsGURjRX",
        "outputId": "c7c0051f-2336-41de-8883-04e6bbfabc4e"
      },
      "execution_count": 32,
      "outputs": [
        {
          "output_type": "stream",
          "name": "stdout",
          "text": [
            "runner ----> runner\n",
            "run ----> run\n",
            "ran ----> ran\n",
            "runs ----> run\n",
            "easy ----> easi\n",
            "easier ----> easier\n",
            "easiest ----> easiest\n"
          ]
        }
      ]
    },
    {
      "cell_type": "markdown",
      "source": [
        "###Lemmatization\n",
        "######It is a more informative way of reducing down words to thier root"
      ],
      "metadata": {
        "id": "r79crEyWjvtO"
      }
    },
    {
      "cell_type": "code",
      "source": [
        "doc1 = nlp(u'I am a runner and loved runners, so i think running is awsome, so run when you can')"
      ],
      "metadata": {
        "id": "4hYF6oAaRoVK"
      },
      "execution_count": 33,
      "outputs": []
    },
    {
      "cell_type": "code",
      "source": [
        "for token in doc1:\n",
        "  print(token.text, token.pos_, token.lemma, token.lemma_)"
      ],
      "metadata": {
        "colab": {
          "base_uri": "https://localhost:8080/"
        },
        "id": "aW48W7wzkHX3",
        "outputId": "0500fe07-6dd4-4b68-f571-ac4b0c38e25f"
      },
      "execution_count": 34,
      "outputs": [
        {
          "output_type": "stream",
          "name": "stdout",
          "text": [
            "I PRON 561228191312463089 -PRON-\n",
            "am AUX 10382539506755952630 be\n",
            "a DET 11901859001352538922 a\n",
            "runner NOUN 12640964157389618806 runner\n",
            "and CCONJ 2283656566040971221 and\n",
            "loved VERB 3702023516439754181 love\n",
            "runners NOUN 12640964157389618806 runner\n",
            ", PUNCT 2593208677638477497 ,\n",
            "so CCONJ 9781598966686434415 so\n",
            "i PRON 5097672513440128799 i\n",
            "think VERB 16875814820671380748 think\n",
            "running VERB 12767647472892411841 run\n",
            "is AUX 10382539506755952630 be\n",
            "awsome ADJ 3521391281120521496 awsome\n",
            ", PUNCT 2593208677638477497 ,\n",
            "so ADV 9781598966686434415 so\n",
            "run VERB 12767647472892411841 run\n",
            "when ADV 15807309897752499399 when\n",
            "you PRON 561228191312463089 -PRON-\n",
            "can VERB 6635067063807956629 can\n"
          ]
        }
      ]
    },
    {
      "cell_type": "code",
      "source": [
        "for token in doc1:\n",
        "  print(token.text, token.lemma_)"
      ],
      "metadata": {
        "colab": {
          "base_uri": "https://localhost:8080/"
        },
        "id": "NkpZGIzEkSmz",
        "outputId": "86844c80-bbd8-4cb5-bef8-18e6c371b72d"
      },
      "execution_count": 35,
      "outputs": [
        {
          "output_type": "stream",
          "name": "stdout",
          "text": [
            "I -PRON-\n",
            "am be\n",
            "a a\n",
            "runner runner\n",
            "and and\n",
            "loved love\n",
            "runners runner\n",
            ", ,\n",
            "so so\n",
            "i i\n",
            "think think\n",
            "running run\n",
            "is be\n",
            "awsome awsome\n",
            ", ,\n",
            "so so\n",
            "run run\n",
            "when when\n",
            "you -PRON-\n",
            "can can\n"
          ]
        }
      ]
    },
    {
      "cell_type": "code",
      "source": [
        "def show_lemmas(doc):\n",
        "  for token in doc:\n",
        "    print(f'{token.text:{12}} {token.pos_:{10}} {token.lemma:<{22}} {token.lemma_}')"
      ],
      "metadata": {
        "id": "v-zyi7nRkuwr"
      },
      "execution_count": 36,
      "outputs": []
    },
    {
      "cell_type": "code",
      "source": [
        "show_lemmas(doc1)"
      ],
      "metadata": {
        "colab": {
          "base_uri": "https://localhost:8080/"
        },
        "id": "XK5sGiGWlSOY",
        "outputId": "9d35acca-245f-4ce5-9446-880848ce5adc"
      },
      "execution_count": 37,
      "outputs": [
        {
          "output_type": "stream",
          "name": "stdout",
          "text": [
            "I            PRON       561228191312463089     -PRON-\n",
            "am           AUX        10382539506755952630   be\n",
            "a            DET        11901859001352538922   a\n",
            "runner       NOUN       12640964157389618806   runner\n",
            "and          CCONJ      2283656566040971221    and\n",
            "loved        VERB       3702023516439754181    love\n",
            "runners      NOUN       12640964157389618806   runner\n",
            ",            PUNCT      2593208677638477497    ,\n",
            "so           CCONJ      9781598966686434415    so\n",
            "i            PRON       5097672513440128799    i\n",
            "think        VERB       16875814820671380748   think\n",
            "running      VERB       12767647472892411841   run\n",
            "is           AUX        10382539506755952630   be\n",
            "awsome       ADJ        3521391281120521496    awsome\n",
            ",            PUNCT      2593208677638477497    ,\n",
            "so           ADV        9781598966686434415    so\n",
            "run          VERB       12767647472892411841   run\n",
            "when         ADV        15807309897752499399   when\n",
            "you          PRON       561228191312463089     -PRON-\n",
            "can          VERB       6635067063807956629    can\n"
          ]
        }
      ]
    },
    {
      "cell_type": "markdown",
      "source": [
        "###Stop words"
      ],
      "metadata": {
        "id": "V5itf5_Xmc3E"
      }
    },
    {
      "cell_type": "code",
      "source": [
        "print(nlp.Defaults.stop_words)"
      ],
      "metadata": {
        "colab": {
          "base_uri": "https://localhost:8080/"
        },
        "id": "TnNES5sclTc_",
        "outputId": "44941dfa-3617-471b-cee1-c451c2faf6ab"
      },
      "execution_count": 38,
      "outputs": [
        {
          "output_type": "stream",
          "name": "stdout",
          "text": [
            "{'may', 'get', 'n’t', 'third', 'please', 'six', 'her', 'they', 'have', 'everything', 'thereupon', 'again', 'because', 'been', 'using', 'whoever', 'indeed', 'hence', 'since', 'me', 'in', 'all', 'take', 'was', 'doing', 'moreover', 'whence', 'mostly', 'first', 'from', '‘ll', 'whereupon', 'several', 'our', 'the', 'where', \"'ve\", 'whenever', 'amongst', 'down', 'upon', 'see', 'less', 'keep', 'of', 'so', 'though', 'must', 'due', 'around', 'anyway', 'during', 'former', 'anyhow', 'together', 'if', 'ca', 'whither', 'except', 'other', 'behind', 'he', 'too', 'regarding', 'already', 'it', 'myself', 'below', 'your', 'fifteen', 'beforehand', 'their', 'some', 'three', 'nowhere', 'everyone', 're', 'various', 'really', 'under', 'why', 'off', 'you', 'then', 'however', 'next', 'him', 'not', 'while', 'how', 'am', 'became', 'forty', 'thereby', 'nor', 'whole', 'against', 'make', 'for', 'himself', 'never', 'made', 'whether', 'fifty', 'per', '’ve', 'even', 'sometimes', 'i', 'sometime', 'but', 'towards', 'neither', 'could', 'becomes', 'after', 'nothing', 'herself', 'becoming', 'can', 'elsewhere', 'than', 'across', 'between', 'yourselves', 'yet', 'as', 'thus', 'cannot', 'n‘t', \"'s\", 'part', 'throughout', 'an', 'a', 'go', 'namely', 'therein', 'still', 'quite', 'besides', 'hereupon', 'therefore', '’re', 'thereafter', 'those', 'no', \"'m\", 'move', 'anywhere', '‘s', 'onto', 'more', 'somehow', 'something', 'them', \"'ll\", 'were', 'through', 'many', 'being', 'nobody', 'anyone', 'seems', 'out', 'nevertheless', 'front', 'which', 'otherwise', 'least', 'each', 'hundred', 'once', 'at', 'has', 'do', 'whom', 'does', 'either', 'without', 'well', 'themselves', 'sixty', 'mine', 'latterly', 'another', 'show', 'what', '‘ve', 'ever', 'unless', 'yourself', 'here', 'any', 'herein', 'eleven', '‘m', 'wherein', 'will', 'also', 'seemed', 'whatever', 'one', 'now', 'wherever', 'become', 'enough', 'twelve', 'few', \"'d\", 'these', 'very', 'empty', \"'re\", '’d', 'done', 'should', 'would', 'whose', 'when', 'she', 'side', 'latter', 'full', 'thence', 'noone', 'almost', 'via', 'its', 'own', 'anything', '‘re', 'meanwhile', 'five', 'both', 'call', 'us', 'most', 'might', 'seeming', 'itself', 'among', 'back', 'on', 'alone', 'four', 'ours', 'somewhere', 'used', 'amount', 'beside', 'much', 'ten', 'just', 'whereby', 'we', 'formerly', 'last', 'yours', 'be', 'toward', 'every', 'had', 'ourselves', 'above', 'beyond', 'to', 'give', 'eight', 'everywhere', 'whereas', 'my', 'hereafter', 'others', 'by', 'perhaps', 'although', 'is', 'hers', 'else', 'twenty', 'there', 'always', 'about', 'this', 'thru', '’m', '‘d', '’ll', 'along', 'whereafter', 'until', 'over', 'further', 'afterwards', 'put', 'nine', 'rather', 'are', \"n't\", 'two', 'who', 'or', 'same', 'up', 'top', 'within', 'hereby', 'seem', 'someone', 'into', 'none', 'such', 'with', '’s', 'name', 'serious', 'that', 'only', 'did', 'bottom', 'often', 'before', 'his', 'say', 'and'}\n"
          ]
        }
      ]
    },
    {
      "cell_type": "code",
      "source": [
        "len(nlp.Defaults.stop_words)"
      ],
      "metadata": {
        "colab": {
          "base_uri": "https://localhost:8080/"
        },
        "id": "kwwFt3y9mmWA",
        "outputId": "006c72c0-1a38-4b5f-b8d3-78779e8f5358"
      },
      "execution_count": 39,
      "outputs": [
        {
          "output_type": "execute_result",
          "data": {
            "text/plain": [
              "326"
            ]
          },
          "metadata": {},
          "execution_count": 39
        }
      ]
    },
    {
      "cell_type": "code",
      "source": [
        "nlp.vocab['is'].is_stop"
      ],
      "metadata": {
        "colab": {
          "base_uri": "https://localhost:8080/"
        },
        "id": "CtvUqP5RmqsA",
        "outputId": "18050423-1681-466c-e08c-427f42f3e36c"
      },
      "execution_count": 40,
      "outputs": [
        {
          "output_type": "execute_result",
          "data": {
            "text/plain": [
              "True"
            ]
          },
          "metadata": {},
          "execution_count": 40
        }
      ]
    },
    {
      "cell_type": "markdown",
      "source": [
        "######Add a Stop Word"
      ],
      "metadata": {
        "id": "vxT9WD-8nEqQ"
      }
    },
    {
      "cell_type": "code",
      "source": [
        "s_word = 'btw'\n",
        "nlp.Defaults.stop_words.add(s_word)\n",
        "nlp.vocab[s_word].is_stop = True"
      ],
      "metadata": {
        "id": "Jdg15_aTmu1M"
      },
      "execution_count": 41,
      "outputs": []
    },
    {
      "cell_type": "code",
      "source": [
        "nlp.vocab['btw'].is_stop"
      ],
      "metadata": {
        "colab": {
          "base_uri": "https://localhost:8080/"
        },
        "id": "iD-j8fIam71f",
        "outputId": "f3fbe4f6-fe65-4cc1-f9b0-90ccfa32d868"
      },
      "execution_count": 42,
      "outputs": [
        {
          "output_type": "execute_result",
          "data": {
            "text/plain": [
              "True"
            ]
          },
          "metadata": {},
          "execution_count": 42
        }
      ]
    },
    {
      "cell_type": "markdown",
      "source": [
        "######Remove a stop word"
      ],
      "metadata": {
        "id": "2EFBklO8nQ7g"
      }
    },
    {
      "cell_type": "code",
      "source": [
        "s_word = 'beyond'\n",
        "nlp.Defaults.stop_words.remove(s_word)\n",
        "nlp.vocab[s_word].is_stop = False"
      ],
      "metadata": {
        "id": "84vEJPttnNA5"
      },
      "execution_count": 43,
      "outputs": []
    },
    {
      "cell_type": "code",
      "source": [
        "nlp.vocab['beyond'].is_stop"
      ],
      "metadata": {
        "colab": {
          "base_uri": "https://localhost:8080/"
        },
        "id": "BAmdQxiBnjgy",
        "outputId": "2f8add41-008c-4b84-b0dd-35949498bec0"
      },
      "execution_count": 44,
      "outputs": [
        {
          "output_type": "execute_result",
          "data": {
            "text/plain": [
              "False"
            ]
          },
          "metadata": {},
          "execution_count": 44
        }
      ]
    },
    {
      "cell_type": "markdown",
      "source": [
        "######Matching and Vocabulary"
      ],
      "metadata": {
        "id": "pYmWaUhRo518"
      }
    },
    {
      "cell_type": "code",
      "source": [
        "matcher = spacy.matcher.Matcher(nlp.vocab)"
      ],
      "metadata": {
        "id": "hKkDOqGdnosC"
      },
      "execution_count": 45,
      "outputs": []
    },
    {
      "cell_type": "code",
      "source": [
        "#solarpower\n",
        "pattern1 = [{'LOWER': 'solarpower'}]\n",
        "# solar-power\n",
        "pattern2 = [{'LOWER': 'solar'}, {'IS_PUNCT': True}, {'LOWER': 'power'}]\n",
        "# solar power\n",
        "pattern3 = [{'LOWER': 'solar'}, {'LOWER': 'power'}]"
      ],
      "metadata": {
        "id": "z_64I1FmpK4o"
      },
      "execution_count": 46,
      "outputs": []
    },
    {
      "cell_type": "code",
      "source": [
        "matcher.add('SolarPower', None, pattern1, pattern2, pattern3)"
      ],
      "metadata": {
        "id": "tSc8s1Kkpw-9"
      },
      "execution_count": 47,
      "outputs": []
    },
    {
      "cell_type": "code",
      "source": [
        "doc = nlp(u'The Solar Power industry uses solarpower, so Solar-Power is amazing')"
      ],
      "metadata": {
        "id": "7ipjcOgaqJ57"
      },
      "execution_count": 48,
      "outputs": []
    },
    {
      "cell_type": "code",
      "source": [
        "matches = matcher(doc)"
      ],
      "metadata": {
        "id": "WOr4tKf3qeFp"
      },
      "execution_count": 49,
      "outputs": []
    },
    {
      "cell_type": "code",
      "source": [
        "matches"
      ],
      "metadata": {
        "colab": {
          "base_uri": "https://localhost:8080/"
        },
        "id": "i1KCRZ39qjgA",
        "outputId": "0b2cf45d-8f2f-4a6f-89b1-b2c8ba5ae094"
      },
      "execution_count": 50,
      "outputs": [
        {
          "output_type": "execute_result",
          "data": {
            "text/plain": [
              "[(8656102463236116519, 1, 3),\n",
              " (8656102463236116519, 5, 6),\n",
              " (8656102463236116519, 8, 11)]"
            ]
          },
          "metadata": {},
          "execution_count": 50
        }
      ]
    },
    {
      "cell_type": "code",
      "source": [
        "for id, start, end in matches:\n",
        "  print(id, nlp.vocab.strings[id], doc[start: end].text)"
      ],
      "metadata": {
        "colab": {
          "base_uri": "https://localhost:8080/"
        },
        "id": "IJPcGzvvqkUs",
        "outputId": "e6dde617-92bb-4633-f1fe-e675c43ac230"
      },
      "execution_count": 51,
      "outputs": [
        {
          "output_type": "stream",
          "name": "stdout",
          "text": [
            "8656102463236116519 SolarPower Solar Power\n",
            "8656102463236116519 SolarPower solarpower\n",
            "8656102463236116519 SolarPower Solar-Power\n"
          ]
        }
      ]
    },
    {
      "cell_type": "code",
      "source": [
        "matcher.remove('SolarPower')"
      ],
      "metadata": {
        "id": "acZR-4qft3HE"
      },
      "execution_count": 52,
      "outputs": []
    },
    {
      "cell_type": "code",
      "source": [
        "pattern1 = [{'LOWER': 'solarpower'}]\n",
        "pattern2 = [{'LOWER': 'solar'}, {'IS_PUNCT': True, 'OP': '*'}, {'LOWER': 'power'}]"
      ],
      "metadata": {
        "id": "vUvYqcd-uVSo"
      },
      "execution_count": 53,
      "outputs": []
    },
    {
      "cell_type": "code",
      "source": [
        "matcher.add('SolarPower', None, pattern1, pattern2)"
      ],
      "metadata": {
        "id": "It2mDHaeukrx"
      },
      "execution_count": 54,
      "outputs": []
    },
    {
      "cell_type": "code",
      "source": [
        "doc2 = nlp(u'Solar----Power is Solar POWER')"
      ],
      "metadata": {
        "id": "NGZUSCFNuqD0"
      },
      "execution_count": 55,
      "outputs": []
    },
    {
      "cell_type": "code",
      "source": [
        "matcher(doc2)"
      ],
      "metadata": {
        "colab": {
          "base_uri": "https://localhost:8080/"
        },
        "id": "ip1gAgO6u7JR",
        "outputId": "a68ade9f-07a3-4b27-b1ff-ecd278fe9605"
      },
      "execution_count": 56,
      "outputs": [
        {
          "output_type": "execute_result",
          "data": {
            "text/plain": [
              "[(8656102463236116519, 2, 4)]"
            ]
          },
          "metadata": {},
          "execution_count": 56
        }
      ]
    },
    {
      "cell_type": "code",
      "source": [
        "doc2 = nlp(u'Solar---Power is Solar POWER')"
      ],
      "metadata": {
        "id": "1gEBHvfmu8xi"
      },
      "execution_count": 57,
      "outputs": []
    },
    {
      "cell_type": "code",
      "source": [
        "matcher(doc2)"
      ],
      "metadata": {
        "colab": {
          "base_uri": "https://localhost:8080/"
        },
        "id": "W3DX0bJsvaRg",
        "outputId": "c3efb371-a312-4556-997c-1857523f841d"
      },
      "execution_count": 58,
      "outputs": [
        {
          "output_type": "execute_result",
          "data": {
            "text/plain": [
              "[(8656102463236116519, 0, 3), (8656102463236116519, 4, 6)]"
            ]
          },
          "metadata": {},
          "execution_count": 58
        }
      ]
    },
    {
      "cell_type": "code",
      "source": [
        "p_matcher = spacy.matcher.PhraseMatcher(nlp.vocab)"
      ],
      "metadata": {
        "id": "kQgT-rU6vadY"
      },
      "execution_count": 59,
      "outputs": []
    },
    {
      "cell_type": "code",
      "source": [
        "phrase_list = ['voodoo economics', 'supply-side economics', 'trikle-down economics']"
      ],
      "metadata": {
        "id": "GiIcNY5gvvf-"
      },
      "execution_count": 60,
      "outputs": []
    },
    {
      "cell_type": "code",
      "source": [
        "phrase_patterns = [nlp(phrase) for phrase in phrase_list]"
      ],
      "metadata": {
        "id": "hqbZkpGZwNp4"
      },
      "execution_count": 61,
      "outputs": []
    },
    {
      "cell_type": "code",
      "source": [
        "type(phrase_patterns[0])"
      ],
      "metadata": {
        "colab": {
          "base_uri": "https://localhost:8080/"
        },
        "id": "PqDbyAjSwlPs",
        "outputId": "ffd6e265-c502-4628-b0b3-1686a1c50ee2"
      },
      "execution_count": 62,
      "outputs": [
        {
          "output_type": "execute_result",
          "data": {
            "text/plain": [
              "spacy.tokens.doc.Doc"
            ]
          },
          "metadata": {},
          "execution_count": 62
        }
      ]
    },
    {
      "cell_type": "code",
      "source": [
        "p_matcher.add('EcobMatcher', None, *phrase_patterns)"
      ],
      "metadata": {
        "id": "-XlR1nVHwpov"
      },
      "execution_count": 63,
      "outputs": []
    },
    {
      "cell_type": "code",
      "source": [
        "temp = nlp('hey voodoo economics, got to supply-side economics, say trikle-down economics')\n",
        "p_matches = p_matcher(temp)"
      ],
      "metadata": {
        "id": "Av_yf2vHwx4E"
      },
      "execution_count": 64,
      "outputs": []
    },
    {
      "cell_type": "code",
      "source": [
        "p_matches"
      ],
      "metadata": {
        "colab": {
          "base_uri": "https://localhost:8080/"
        },
        "id": "LS2_pqrp9yZa",
        "outputId": "f9b8ebbf-33c7-478b-de11-307b2dc3641f"
      },
      "execution_count": 65,
      "outputs": [
        {
          "output_type": "execute_result",
          "data": {
            "text/plain": [
              "[(8838797697251217482, 1, 3),\n",
              " (8838797697251217482, 6, 10),\n",
              " (8838797697251217482, 12, 16)]"
            ]
          },
          "metadata": {},
          "execution_count": 65
        }
      ]
    },
    {
      "cell_type": "code",
      "source": [
        "for id, start, end in p_matches:\n",
        "  print(id, nlp.vocab.strings[id], temp[start: end].text)"
      ],
      "metadata": {
        "colab": {
          "base_uri": "https://localhost:8080/"
        },
        "id": "GUO86cvA_gO6",
        "outputId": "2d78960c-2a3d-453e-ef3e-e97552a1dde5"
      },
      "execution_count": 66,
      "outputs": [
        {
          "output_type": "stream",
          "name": "stdout",
          "text": [
            "8838797697251217482 EcobMatcher voodoo economics\n",
            "8838797697251217482 EcobMatcher supply-side economics\n",
            "8838797697251217482 EcobMatcher trikle-down economics\n"
          ]
        }
      ]
    },
    {
      "cell_type": "code",
      "source": [
        "doc12 = nlp(u'a runner is a person that runs, especially in a specified way')"
      ],
      "metadata": {
        "id": "fNql3PBjAUNU"
      },
      "execution_count": 72,
      "outputs": []
    },
    {
      "cell_type": "code",
      "source": [
        "for token in doc12:\n",
        "  print(token.text)"
      ],
      "metadata": {
        "colab": {
          "base_uri": "https://localhost:8080/"
        },
        "id": "bsLGktbSCYWw",
        "outputId": "7487335b-afde-4b14-b151-15e52a2ef057"
      },
      "execution_count": 76,
      "outputs": [
        {
          "output_type": "stream",
          "name": "stdout",
          "text": [
            "a\n",
            "runner\n",
            "is\n",
            "a\n",
            "person\n",
            "that\n",
            "runs\n",
            ",\n",
            "especially\n",
            "in\n",
            "a\n",
            "specified\n",
            "way\n"
          ]
        }
      ]
    },
    {
      "cell_type": "code",
      "source": [
        "for token in doc12:\n",
        "  print(token.text, token.pos_)"
      ],
      "metadata": {
        "colab": {
          "base_uri": "https://localhost:8080/"
        },
        "id": "UGeC2TA4Cza_",
        "outputId": "432f7f4e-4a35-4d6a-926f-9922ac6bde6d"
      },
      "execution_count": 75,
      "outputs": [
        {
          "output_type": "stream",
          "name": "stdout",
          "text": [
            "a DET\n",
            "runner NOUN\n",
            "is AUX\n",
            "a DET\n",
            "person NOUN\n",
            "that DET\n",
            "runs VERB\n",
            ", PUNCT\n",
            "especially ADV\n",
            "in ADP\n",
            "a DET\n",
            "specified VERB\n",
            "way NOUN\n"
          ]
        }
      ]
    },
    {
      "cell_type": "code",
      "source": [
        "for token in doc12:\n",
        "  print(token.text, token.lemma, token.lemma_)"
      ],
      "metadata": {
        "colab": {
          "base_uri": "https://localhost:8080/"
        },
        "id": "VHnycXwlDvPI",
        "outputId": "0deb95e1-c178-4443-a575-1d7b822c1800"
      },
      "execution_count": 77,
      "outputs": [
        {
          "output_type": "stream",
          "name": "stdout",
          "text": [
            "a 11901859001352538922 a\n",
            "runner 12640964157389618806 runner\n",
            "is 10382539506755952630 be\n",
            "a 11901859001352538922 a\n",
            "person 14800503047316267216 person\n",
            "that 4380130941430378203 that\n",
            "runs 12767647472892411841 run\n",
            ", 2593208677638477497 ,\n",
            "especially 13751905263548122051 especially\n",
            "in 3002984154512732771 in\n",
            "a 11901859001352538922 a\n",
            "specified 5918416916626768037 specify\n",
            "way 6878210874361030284 way\n"
          ]
        }
      ]
    },
    {
      "cell_type": "code",
      "source": [
        "for token in doc12:\n",
        "  print(token.text, token.lemma_)"
      ],
      "metadata": {
        "colab": {
          "base_uri": "https://localhost:8080/"
        },
        "id": "GSvZ_KwHD726",
        "outputId": "83ab9816-6600-4c6e-cd2b-b6b6439e265f"
      },
      "execution_count": 78,
      "outputs": [
        {
          "output_type": "stream",
          "name": "stdout",
          "text": [
            "a a\n",
            "runner runner\n",
            "is be\n",
            "a a\n",
            "person person\n",
            "that that\n",
            "runs run\n",
            ", ,\n",
            "especially especially\n",
            "in in\n",
            "a a\n",
            "specified specify\n",
            "way way\n"
          ]
        }
      ]
    },
    {
      "cell_type": "code",
      "source": [
        "pattern12 = [{'runner': 'RUNNER'}]"
      ],
      "metadata": {
        "id": "tfSFZe81E8sW"
      },
      "execution_count": 79,
      "outputs": []
    },
    {
      "cell_type": "code",
      "source": [
        "print(nlp.Defaults.stop_words)"
      ],
      "metadata": {
        "colab": {
          "base_uri": "https://localhost:8080/"
        },
        "id": "JpnyhI0TE50p",
        "outputId": "92d45cd1-21b4-4769-dc6e-68a28208d056"
      },
      "execution_count": 82,
      "outputs": [
        {
          "output_type": "stream",
          "name": "stdout",
          "text": [
            "{'may', 'get', 'n’t', 'third', 'please', 'six', 'her', 'they', 'have', 'everything', 'thereupon', 'again', 'because', 'been', 'using', 'whoever', 'indeed', 'hence', 'since', 'me', 'in', 'all', 'take', 'was', 'doing', 'moreover', 'whence', 'mostly', 'first', 'from', '‘ll', 'whereupon', 'several', 'our', 'the', 'where', \"'ve\", 'whenever', 'amongst', 'down', 'upon', 'see', 'less', 'keep', 'of', 'so', 'though', 'must', 'due', 'around', 'anyway', 'during', 'former', 'anyhow', 'together', 'if', 'ca', 'whither', 'except', 'other', 'behind', 'he', 'too', 'regarding', 'already', 'it', 'myself', 'below', 'your', 'fifteen', 'beforehand', 'their', 'some', 'three', 'nowhere', 'everyone', 're', 'various', 'really', 'under', 'why', 'off', 'you', 'then', 'however', 'next', 'him', 'not', 'while', 'how', 'am', 'became', 'forty', 'thereby', 'nor', 'whole', 'against', 'make', 'for', 'himself', 'never', 'made', 'whether', 'fifty', 'per', '’ve', 'even', 'sometimes', 'i', 'sometime', 'but', 'towards', 'neither', 'could', 'becomes', 'after', 'nothing', 'herself', 'becoming', 'can', 'elsewhere', 'than', 'across', 'between', 'yourselves', 'yet', 'as', 'thus', 'cannot', 'n‘t', \"'s\", 'part', 'throughout', 'an', 'a', 'go', 'namely', 'therein', 'still', 'quite', 'besides', 'hereupon', 'therefore', '’re', 'thereafter', 'those', 'no', \"'m\", 'move', 'anywhere', 'btw', '‘s', 'onto', 'more', 'somehow', 'something', 'them', \"'ll\", 'were', 'through', 'many', 'being', 'nobody', 'anyone', 'seems', 'out', 'nevertheless', 'front', 'which', 'otherwise', 'least', 'each', 'hundred', 'once', 'at', 'has', 'do', 'whom', 'does', 'either', 'without', 'well', 'themselves', 'sixty', 'mine', 'latterly', 'another', 'show', 'what', '‘ve', 'ever', 'unless', 'yourself', 'here', 'any', 'herein', 'eleven', '‘m', 'wherein', 'will', 'also', 'seemed', 'whatever', 'one', 'now', 'wherever', 'become', 'enough', 'twelve', 'few', \"'d\", 'these', 'very', 'empty', \"'re\", '’d', 'done', 'should', 'would', 'whose', 'when', 'she', 'side', 'latter', 'full', 'thence', 'noone', 'almost', 'via', 'its', 'own', 'anything', '‘re', 'meanwhile', 'five', 'both', 'call', 'us', 'most', 'might', 'seeming', 'itself', 'among', 'back', 'on', 'alone', 'four', 'ours', 'somewhere', 'used', 'amount', 'beside', 'much', 'ten', 'just', 'whereby', 'we', 'formerly', 'last', 'yours', 'be', 'toward', 'every', 'had', 'ourselves', 'above', 'to', 'give', 'eight', 'everywhere', 'whereas', 'my', 'hereafter', 'others', 'by', 'perhaps', 'although', 'is', 'hers', 'else', 'twenty', 'there', 'always', 'about', 'this', 'thru', '’m', '‘d', '’ll', 'along', 'whereafter', 'until', 'over', 'further', 'afterwards', 'put', 'nine', 'rather', 'are', \"n't\", 'two', 'who', 'or', 'same', 'up', 'top', 'within', 'hereby', 'seem', 'someone', 'into', 'none', 'such', 'with', '’s', 'name', 'serious', 'that', 'only', 'did', 'bottom', 'often', 'before', 'his', 'say', 'and'}\n"
          ]
        }
      ]
    },
    {
      "cell_type": "code",
      "source": [
        "list(nlp.Defaults.stop_words)[:20]"
      ],
      "metadata": {
        "colab": {
          "base_uri": "https://localhost:8080/"
        },
        "id": "QIYPWT2YEAGW",
        "outputId": "fb438c68-ce3c-455c-febe-b22dbe5b9821"
      },
      "execution_count": 86,
      "outputs": [
        {
          "output_type": "execute_result",
          "data": {
            "text/plain": [
              "['may',\n",
              " 'get',\n",
              " 'n’t',\n",
              " 'third',\n",
              " 'please',\n",
              " 'six',\n",
              " 'her',\n",
              " 'they',\n",
              " 'have',\n",
              " 'everything',\n",
              " 'thereupon',\n",
              " 'again',\n",
              " 'because',\n",
              " 'been',\n",
              " 'using',\n",
              " 'whoever',\n",
              " 'indeed',\n",
              " 'hence',\n",
              " 'since',\n",
              " 'me']"
            ]
          },
          "metadata": {},
          "execution_count": 86
        }
      ]
    },
    {
      "cell_type": "code",
      "source": [
        "for word in list(nlp.Defaults.stop_words):\n",
        "  if word.startswith('f'):\n",
        "    print(word)"
      ],
      "metadata": {
        "colab": {
          "base_uri": "https://localhost:8080/"
        },
        "id": "kXIJJe6gGJ8b",
        "outputId": "462d29a8-1877-42df-f317-bf4e3b00fa50"
      },
      "execution_count": 91,
      "outputs": [
        {
          "output_type": "stream",
          "name": "stdout",
          "text": [
            "first\n",
            "from\n",
            "former\n",
            "fifteen\n",
            "forty\n",
            "for\n",
            "fifty\n",
            "front\n",
            "few\n",
            "full\n",
            "five\n",
            "four\n",
            "formerly\n",
            "further\n"
          ]
        }
      ]
    },
    {
      "cell_type": "code",
      "source": [
        "for word in list(nlp.Defaults.stop_words):\n",
        "  if word.startswith('z'):\n",
        "    print(word)"
      ],
      "metadata": {
        "id": "Mhm1AtboJhi6"
      },
      "execution_count": 92,
      "outputs": []
    },
    {
      "cell_type": "code",
      "source": [
        "stop_words_count = {}\n",
        "for word in list(nlp.Defaults.stop_words):\n",
        "  starting_letter = word[0]\n",
        "  if not stop_words_count.get(starting_letter):\n",
        "    stop_words_count[starting_letter] = word"
      ],
      "metadata": {
        "id": "M5FirPaDJ6tP"
      },
      "execution_count": 96,
      "outputs": []
    },
    {
      "cell_type": "code",
      "source": [
        "stop_words_count"
      ],
      "metadata": {
        "colab": {
          "base_uri": "https://localhost:8080/"
        },
        "id": "i9-J4boOL8pR",
        "outputId": "19cdea46-4b14-4047-d290-4afef47f276e"
      },
      "execution_count": 97,
      "outputs": [
        {
          "output_type": "execute_result",
          "data": {
            "text/plain": [
              "{\"'\": \"'ve\",\n",
              " 'a': 'again',\n",
              " 'b': 'because',\n",
              " 'c': 'ca',\n",
              " 'd': 'doing',\n",
              " 'e': 'everything',\n",
              " 'f': 'first',\n",
              " 'g': 'get',\n",
              " 'h': 'her',\n",
              " 'i': 'indeed',\n",
              " 'j': 'just',\n",
              " 'k': 'keep',\n",
              " 'l': 'less',\n",
              " 'm': 'may',\n",
              " 'n': 'n’t',\n",
              " 'o': 'our',\n",
              " 'p': 'please',\n",
              " 'q': 'quite',\n",
              " 'r': 'regarding',\n",
              " 's': 'six',\n",
              " 't': 'third',\n",
              " 'u': 'using',\n",
              " 'v': 'various',\n",
              " 'w': 'whoever',\n",
              " 'y': 'your',\n",
              " '‘': '‘ll',\n",
              " '’': '’ve'}"
            ]
          },
          "metadata": {},
          "execution_count": 97
        }
      ]
    },
    {
      "cell_type": "code",
      "source": [
        ""
      ],
      "metadata": {
        "id": "97cywKV8L9r9"
      },
      "execution_count": null,
      "outputs": []
    }
  ]
}